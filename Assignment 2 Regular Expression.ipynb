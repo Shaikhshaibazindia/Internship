{
 "cells": [
  {
   "cell_type": "markdown",
   "id": "1e4b5633",
   "metadata": {},
   "source": [
    "Question 1- Write a Python program to check that a string contains only a certain set of characters (in this case a-z, A-Z and 0-9)."
   ]
  },
  {
   "cell_type": "code",
   "execution_count": 55,
   "id": "6bcddf69",
   "metadata": {},
   "outputs": [],
   "source": [
    "import re"
   ]
  },
  {
   "cell_type": "code",
   "execution_count": 56,
   "id": "3db6aa07",
   "metadata": {},
   "outputs": [
    {
     "name": "stdout",
     "output_type": "stream",
     "text": [
      "['h', 'e', 'a', 't', 'a', 's', 'c', 'i', 'e', 'n', 'c', 'e', 'i', 's', 'v', 'a', 's', 't', 'f', 'i', 'e', 'l', 'd']\n"
     ]
    }
   ],
   "source": [
    "string=\"The Data science is vast field\"\n",
    "x=re.findall('[a-z]',string)\n",
    "print(x)"
   ]
  },
  {
   "cell_type": "code",
   "execution_count": 57,
   "id": "7839ec71",
   "metadata": {},
   "outputs": [
    {
     "name": "stdout",
     "output_type": "stream",
     "text": [
      "['1', '2021', '112', '182']\n",
      "['I', 'G', 'K', 'R', 'I']\n"
     ]
    }
   ],
   "source": [
    "string2=\"India’s rank improved by 1 position in Global Kids Right Index 2021 with a ranking of 112 out of 182\"\n",
    "x1=re.findall(r'\\d+',string2)\n",
    "x2=re.findall(\"[A-Z]\",string2)\n",
    "print(x1)\n",
    "print(x2)"
   ]
  },
  {
   "cell_type": "markdown",
   "id": "8bfb8269",
   "metadata": {},
   "source": [
    "# Question 2- Create a function in python that matches a string that has an a followed by zero or more b's"
   ]
  },
  {
   "cell_type": "code",
   "execution_count": 58,
   "id": "2cee67e6",
   "metadata": {},
   "outputs": [
    {
     "name": "stdout",
     "output_type": "stream",
     "text": [
      "matching: None\n"
     ]
    }
   ],
   "source": [
    "string=\"banana\"\n",
    "x=re.search(r\"\\bab\\w+\",string)\n",
    "print(\"matching:\",x)"
   ]
  },
  {
   "cell_type": "markdown",
   "id": "9335a201",
   "metadata": {},
   "source": [
    "# Question 3-  Create a function in python that matches a string that has an a followed by one or more b's"
   ]
  },
  {
   "cell_type": "code",
   "execution_count": 59,
   "id": "e4aa16cd",
   "metadata": {},
   "outputs": [
    {
     "name": "stdout",
     "output_type": "stream",
     "text": [
      "matching: <re.Match object; span=(0, 2), match='ab'>\n"
     ]
    }
   ],
   "source": [
    "string1=\"abdomen\"\n",
    "x4=re.search(r\"\\bab\",string1)\n",
    "print(\"matching:\",x4)"
   ]
  },
  {
   "cell_type": "markdown",
   "id": "063d31af",
   "metadata": {},
   "source": [
    "# Question 4- Create a function in Python and use RegEx that matches a string that has an a followed by zero or one 'b'."
   ]
  },
  {
   "cell_type": "code",
   "execution_count": 60,
   "id": "b886e2ba",
   "metadata": {},
   "outputs": [
    {
     "name": "stdout",
     "output_type": "stream",
     "text": [
      "matching: <re.Match object; span=(0, 2), match='ab'>\n"
     ]
    }
   ],
   "source": [
    "string2=\"abroad\"\n",
    "x3=re.search(r\"^\\bab\",string2)\n",
    "print(\"matching:\",x3)"
   ]
  },
  {
   "cell_type": "markdown",
   "id": "c424fc12",
   "metadata": {},
   "source": [
    "# Question 5- Write a Python program that matches a string that has an a followed by three 'b'"
   ]
  },
  {
   "cell_type": "code",
   "execution_count": 61,
   "id": "a3ff8eff",
   "metadata": {},
   "outputs": [
    {
     "name": "stdout",
     "output_type": "stream",
     "text": [
      "matching: <re.Match object; span=(0, 4), match='abbb'>\n"
     ]
    }
   ],
   "source": [
    "text='abbb'\n",
    "\n",
    "t1=re.search(r\"^\\w+\",text)\n",
    "print(\"matching:\",t1)"
   ]
  },
  {
   "cell_type": "markdown",
   "id": "dc10f3af",
   "metadata": {},
   "source": [
    "# Question 6- Write a regular expression in Python to split a string into uppercase letters.\n",
    "Sample text: “ImportanceOfRegularExpressionsInPython”\n",
    "Output: [‘Importance’, ‘Of’, ‘Regular’, ‘Expression’, ‘In’, ‘Python’]\n"
   ]
  },
  {
   "cell_type": "code",
   "execution_count": 78,
   "id": "ddb35bb9",
   "metadata": {},
   "outputs": [
    {
     "name": "stdout",
     "output_type": "stream",
     "text": [
      "['', 'Importance', 'Of', 'Regular', 'Expressions', 'In', 'Python']\n"
     ]
    }
   ],
   "source": [
    "Sample_text=\"ImportanceOfRegularExpressionsInPython\"\n",
    "regex=re.split(r\"(?=[A-Z])\",Sample_text)\n",
    "print(regex)"
   ]
  },
  {
   "cell_type": "markdown",
   "id": "69fc1fdf",
   "metadata": {},
   "source": [
    "# Question 7- Write a Python program that matches a string that has an a followed by two to three 'b'."
   ]
  },
  {
   "cell_type": "code",
   "execution_count": 79,
   "id": "9e543a28",
   "metadata": {},
   "outputs": [
    {
     "name": "stdout",
     "output_type": "stream",
     "text": [
      "matching: <re.Match object; span=(0, 4), match='abbb'>\n"
     ]
    }
   ],
   "source": [
    "text='abbb'\n",
    "\n",
    "t1=re.search(r\"^\\w+\",text)\n",
    "print(\"matching:\",t1)"
   ]
  },
  {
   "cell_type": "markdown",
   "id": "1dc06158",
   "metadata": {},
   "source": [
    "# Question 8- Write a Python program to find sequences of lowercase letters joined with a underscore"
   ]
  },
  {
   "cell_type": "code",
   "execution_count": 80,
   "id": "c4adfdb2",
   "metadata": {},
   "outputs": [
    {
     "name": "stdout",
     "output_type": "stream",
     "text": [
      "['the_python_is_programming_language']\n"
     ]
    }
   ],
   "source": [
    "sequence=\"the_python_is_programming_language\"\n",
    "sample=r'[a-z]+\\w+_[a-z]+'\n",
    "string=re.findall(sample,sequence)\n",
    "print(string)"
   ]
  },
  {
   "cell_type": "markdown",
   "id": "0e34dd01",
   "metadata": {},
   "source": [
    "# Question 9- Write a Python program that matches a string that has an 'a' followed by anything, ending in 'b'."
   ]
  },
  {
   "cell_type": "code",
   "execution_count": 195,
   "id": "c9bf7a50",
   "metadata": {},
   "outputs": [
    {
     "name": "stdout",
     "output_type": "stream",
     "text": [
      "<re.Match object; span=(0, 5), match='asorb'>\n"
     ]
    }
   ],
   "source": [
    "text1=\"asorb\"\n",
    "text2=re.match(r'(^a.*b$)',text1)\n",
    "print(text2)"
   ]
  },
  {
   "cell_type": "markdown",
   "id": "433a6924",
   "metadata": {},
   "source": [
    "# Question 10- Write a Python program that matches a word at the beginning of a string."
   ]
  },
  {
   "cell_type": "code",
   "execution_count": 111,
   "id": "8055fa26",
   "metadata": {},
   "outputs": [
    {
     "name": "stdout",
     "output_type": "stream",
     "text": [
      "<re.Match object; span=(0, 5), match='hello'>\n"
     ]
    }
   ],
   "source": [
    "text3='hello Data Science world'\n",
    "x=re.search('^\\w{5}',text3)\n",
    "print(x)"
   ]
  },
  {
   "cell_type": "markdown",
   "id": "94ab8e83",
   "metadata": {},
   "source": [
    "# Question 11- Write a Python program to match a string that contains only upper and lowercase letters, numbers, and underscores."
   ]
  },
  {
   "cell_type": "code",
   "execution_count": 160,
   "id": "281c6a4d",
   "metadata": {},
   "outputs": [
    {
     "name": "stdout",
     "output_type": "stream",
     "text": [
      "['The ', 'World ', 'of ', 'Python ', 'is ', 'simple_complex ', 'combination ', '100']\n"
     ]
    }
   ],
   "source": [
    "string=\"The World of Python is simple_complex combination 100\"\n",
    "rst_string=re.findall(r'(\\w+[a_zA_Z0_9 ])',string)\n",
    "\n",
    "print(rst_string)"
   ]
  },
  {
   "cell_type": "markdown",
   "id": "86a306e9",
   "metadata": {},
   "source": [
    "# Question 12- Write a Python program where a string will start with a specific number. "
   ]
  },
  {
   "cell_type": "code",
   "execution_count": 172,
   "id": "36da6147",
   "metadata": {},
   "outputs": [
    {
     "name": "stdout",
     "output_type": "stream",
     "text": [
      "['90']\n"
     ]
    }
   ],
   "source": [
    "txt=\"90 runs in his 100th match was scored by virat kohli\"\n",
    "pattern=r'^[0-9]+'\n",
    "txt1=re.findall(pattern,txt)\n",
    "print(txt1)"
   ]
  },
  {
   "cell_type": "markdown",
   "id": "2913f8a8",
   "metadata": {},
   "source": [
    "# Question 13- Write a Python program to remove leading zeros from an IP address"
   ]
  },
  {
   "cell_type": "code",
   "execution_count": 173,
   "id": "211be8f6",
   "metadata": {},
   "outputs": [
    {
     "name": "stdout",
     "output_type": "stream",
     "text": [
      "233.2.1.23.1\n"
     ]
    }
   ],
   "source": [
    "IP='233.002.001.23.001'\n",
    "IP2=re.sub('0',\"\",IP)\n",
    "print(IP2)"
   ]
  },
  {
   "cell_type": "markdown",
   "id": "8787647c",
   "metadata": {},
   "source": [
    "# Question 14- Write a regular expression in python to match a date string in the form of Month name followed by day number and year stored in a text file."
   ]
  },
  {
   "cell_type": "code",
   "execution_count": 212,
   "id": "eefced7c",
   "metadata": {},
   "outputs": [
    {
     "name": "stdout",
     "output_type": "stream",
     "text": [
      "('August', '15th', '1947')\n"
     ]
    }
   ],
   "source": [
    "Sample_text=\"On August 15th 1947 that India was declared independent from British colonialism, and the reins of control were handed over to the leaders of the Country\"\n",
    "\n",
    "match=re.search(r\"(\\w{6}).+(\\b\\d[0-9a-z]+).+(\\b\\d+)\",Sample_text)\n",
    "print(match.groups())"
   ]
  },
  {
   "cell_type": "markdown",
   "id": "fdda4cc2",
   "metadata": {},
   "source": [
    "# Question 15- Write a Python program to search some literals strings in a string. Go to the editor\n",
    "\n"
   ]
  },
  {
   "cell_type": "code",
   "execution_count": 227,
   "id": "cedfcdca",
   "metadata": {},
   "outputs": [
    {
     "name": "stdout",
     "output_type": "stream",
     "text": [
      "<re.Match object; span=(16, 19), match='fox'> <re.Match object; span=(40, 43), match='dog'> None\n"
     ]
    }
   ],
   "source": [
    "Sample_text1=\"The quick brown fox jumps over the lazy dog.\"\n",
    "x=re.search(\"fox\",Sample_text1)\n",
    "x1=re.search(\"dog\",Sample_text1)\n",
    "xh=re.search(\"horse\",Sample_text1)\n",
    "\n",
    "print(x,x1,xh)\n"
   ]
  },
  {
   "cell_type": "markdown",
   "id": "ca0f68ad",
   "metadata": {},
   "source": [
    "# Question 16- Write a Python program to search a literals string in a string and also find the location within the original string where the pattern occurs"
   ]
  },
  {
   "cell_type": "code",
   "execution_count": 229,
   "id": "8fc5d8b9",
   "metadata": {},
   "outputs": [
    {
     "name": "stdout",
     "output_type": "stream",
     "text": [
      "<re.Match object; span=(16, 19), match='fox'>\n"
     ]
    }
   ],
   "source": [
    "Sample_text1=\"The quick brown fox jumps over the lazy dog.\"\n",
    "xf=re.search(\"fox\",Sample_text1)\n",
    "\n",
    "print(xf)\n"
   ]
  },
  {
   "cell_type": "markdown",
   "id": "b62c1387",
   "metadata": {},
   "source": [
    "# Question 17- Write a Python program to find the substrings within a string."
   ]
  },
  {
   "cell_type": "code",
   "execution_count": 230,
   "id": "73bd3eb9",
   "metadata": {},
   "outputs": [
    {
     "name": "stdout",
     "output_type": "stream",
     "text": [
      "['exercises', 'exercises', 'exercises']\n"
     ]
    }
   ],
   "source": [
    "sample_text17=\"Python exercises, PHP exercises, C# exercises\"\n",
    "pattern17='exercises'\n",
    "x17=re.findall(pattern17,sample_text17)\n",
    "print(x17)"
   ]
  },
  {
   "cell_type": "markdown",
   "id": "327080d6",
   "metadata": {},
   "source": [
    "# Question 18- Write a Python program to find the occurrence and position of the substrings within a string."
   ]
  },
  {
   "cell_type": "code",
   "execution_count": 232,
   "id": "21068aff",
   "metadata": {},
   "outputs": [
    {
     "name": "stdout",
     "output_type": "stream",
     "text": [
      "<re.Match object; span=(0, 5), match='India'>\n"
     ]
    }
   ],
   "source": [
    "string18=\"India is a beautiful country\"\n",
    "substring18='India'\n",
    "x18=re.search(substring18,string18)\n",
    "print(x18)"
   ]
  },
  {
   "cell_type": "markdown",
   "id": "efbe4949",
   "metadata": {},
   "source": [
    "# Question 19- Write a Python program to convert a date of yyyy-mm-dd format to dd-mm-yyyy format."
   ]
  },
  {
   "cell_type": "code",
   "execution_count": 240,
   "id": "c02041e0",
   "metadata": {},
   "outputs": [
    {
     "name": "stdout",
     "output_type": "stream",
     "text": [
      "The date is 15-7-2023\n"
     ]
    }
   ],
   "source": [
    "dt=\"2023-7-15\"\n",
    "format1=\"15-7-2023\"\n",
    "text19=\"The date is 2023-7-15\"\n",
    "convertdate=re.sub(dt,\"15-7-2023\",text19)\n",
    "print(convertdate)"
   ]
  },
  {
   "cell_type": "markdown",
   "id": "e3abc10b",
   "metadata": {},
   "source": [
    "# Question 20- Write a Python program to find all words starting with 'a' or 'e' in a given string.\n"
   ]
  },
  {
   "cell_type": "code",
   "execution_count": 274,
   "id": "a54c8225",
   "metadata": {},
   "outputs": [
    {
     "name": "stdout",
     "output_type": "stream",
     "text": [
      "['Ape', 'ace', 'algae', 'apple', 'alone']\n"
     ]
    }
   ],
   "source": [
    "text20='Ape ace algae banana apple alone dune brownie'\n",
    "pattern20=r'\\b[AEae]\\w+'\n",
    "words=re.findall(pattern20,text20)\n",
    "\n",
    "print(words)"
   ]
  },
  {
   "cell_type": "markdown",
   "id": "215c3025",
   "metadata": {},
   "source": [
    "# Question 21- Write a Python program to separate and print the numbers and their position of a given string."
   ]
  },
  {
   "cell_type": "code",
   "execution_count": 277,
   "id": "003e1bc4",
   "metadata": {},
   "outputs": [
    {
     "name": "stdout",
     "output_type": "stream",
     "text": [
      "['90', '100']\n"
     ]
    }
   ],
   "source": [
    "Sample21=\"Virat Kohli scored 90  runs in his 100th match\"\n",
    "pattern21=\"[0-9]+\"\n",
    "result21=re.findall(pattern21,Sample21)\n",
    "print(result21)"
   ]
  },
  {
   "cell_type": "markdown",
   "id": "490fb1b6",
   "metadata": {},
   "source": [
    "# Question 22- Write a regular expression in python program to extract maximum numeric value from a string"
   ]
  },
  {
   "cell_type": "code",
   "execution_count": 306,
   "id": "212bd6c5",
   "metadata": {},
   "outputs": [
    {
     "name": "stdout",
     "output_type": "stream",
     "text": [
      "4545\n"
     ]
    },
    {
     "data": {
      "text/plain": [
       "<function __main__.max_function(result22)>"
      ]
     },
     "execution_count": 306,
     "metadata": {},
     "output_type": "execute_result"
    }
   ],
   "source": [
    "def max_function(result22):\n",
    "    sample22='22 234 434 34 abcd 23 4545 3'\n",
    "    pattern=r'\\d+'\n",
    "    result22=re.findall(pattern,sample22)\n",
    "print(max(result22))\n",
    "max_function"
   ]
  },
  {
   "cell_type": "markdown",
   "id": "4f9d419b",
   "metadata": {},
   "source": [
    "# Question 23- Write a Regex in Python to put spaces between words starting with capital letters"
   ]
  },
  {
   "cell_type": "code",
   "execution_count": 344,
   "id": "04a8480a",
   "metadata": {},
   "outputs": [
    {
     "name": "stdout",
     "output_type": "stream",
     "text": [
      "An Apple A Day Keeps The Doctor Away\n"
     ]
    }
   ],
   "source": [
    "Sample23= \"AnAppleADayKeepsTheDoctorAway\"\n",
    "result23= re.sub(r'(?<!^)(?=[A-Z])', ' ', Sample23)\n",
    "print(result23)\n"
   ]
  },
  {
   "cell_type": "markdown",
   "id": "9b693678",
   "metadata": {},
   "source": [
    "# Question 24- Python regex to find sequences of one upper case letter followed by lower case letters"
   ]
  },
  {
   "cell_type": "code",
   "execution_count": 347,
   "id": "fca0a2e8",
   "metadata": {},
   "outputs": [
    {
     "name": "stdout",
     "output_type": "stream",
     "text": [
      "['The', 'Quick', 'Fox', 'Dog']\n"
     ]
    }
   ],
   "source": [
    "sample24=\"The Quick brown Fox jumps over the lazy Dog\"\n",
    "pattern=r'[A-Z][a-z]+'\n",
    "result24=re.findall(pattern,sample24)\n",
    "print(result24)"
   ]
  },
  {
   "cell_type": "markdown",
   "id": "7eacbe13",
   "metadata": {},
   "source": [
    "# Question 25- Write a Python program to remove duplicate words from Sentence using Regular Expression"
   ]
  },
  {
   "cell_type": "code",
   "execution_count": 369,
   "id": "df7bcd11",
   "metadata": {},
   "outputs": [
    {
     "name": "stdout",
     "output_type": "stream",
     "text": [
      "Ram went to his home\n"
     ]
    }
   ],
   "source": [
    "import regex as re\n",
    "\n",
    "string25=\"Ram went went to to his home\"\n",
    "result25=r'\\b(\\w+)(\\W+\\1\\b)+'\n",
    "x25 = re.sub(result25, r'\\1', string25)\n",
    "print(x25)"
   ]
  },
  {
   "cell_type": "markdown",
   "id": "a3bd9071",
   "metadata": {},
   "source": [
    "# Question 26-  Write a python program using RegEx to accept string ending with alphanumeric character."
   ]
  },
  {
   "cell_type": "code",
   "execution_count": 371,
   "id": "1bc7d021",
   "metadata": {},
   "outputs": [
    {
     "name": "stdout",
     "output_type": "stream",
     "text": [
      "['Alphanumeric123323']\n"
     ]
    }
   ],
   "source": [
    "string26=\"Alphanumeric123323\"\n",
    "pattern26=r'[A-Za-z0-9]+'\n",
    "result26=re.findall(pattern26,string26)\n",
    "print(result26)"
   ]
  },
  {
   "cell_type": "markdown",
   "id": "d31966c6",
   "metadata": {},
   "source": [
    "# Question 27-Write a python program using RegEx to extract the hashtags.\n"
   ]
  },
  {
   "cell_type": "code",
   "execution_count": 372,
   "id": "90b51c81",
   "metadata": {},
   "outputs": [
    {
     "name": "stdout",
     "output_type": "stream",
     "text": [
      "['#Doltiwal', '#xyzabc', '#Demonetization']\n"
     ]
    }
   ],
   "source": [
    "text27=\"\"\"RT @kapil_kausik: #Doltiwal I mean #xyzabc is \"hurt\" by #Demonetization as the same has rendered USELESS <ed><U+00A0><U+00BD><ed><U+00B1><U+0089> \"acquired funds\" No wo\"\"\"\n",
    "pattern27=r'#\\w+'\n",
    "result27=re.findall(pattern27,text27)\n",
    "print(result27)"
   ]
  },
  {
   "cell_type": "markdown",
   "id": "317328e7",
   "metadata": {},
   "source": [
    "# Question 28- Write a python program using RegEx to remove <U+..> like symbols"
   ]
  },
  {
   "cell_type": "code",
   "execution_count": 381,
   "id": "1f0130c9",
   "metadata": {},
   "outputs": [
    {
     "name": "stdout",
     "output_type": "stream",
     "text": [
      "@Jags123456 Bharat band on 28??<ed>  <ed>  Those who  are protesting #demonetization  are all different party leaders\n"
     ]
    }
   ],
   "source": [
    "text28=\"@Jags123456 Bharat band on 28??<ed><U+00A0><U+00BD><ed><U+00B8><U+0082>Those who  are protesting #demonetization  are all different party leaders\"\n",
    "pattern28=r'<U\\+\\w+>'\n",
    "result28=re.sub(pattern28,\" \",text28)\n",
    "print(result28)"
   ]
  },
  {
   "cell_type": "markdown",
   "id": "1f8b416f",
   "metadata": {},
   "source": [
    "# Question 29- Write a python program to extract dates from the text stored in the text file."
   ]
  },
  {
   "cell_type": "code",
   "execution_count": 385,
   "id": "a7aaaa4a",
   "metadata": {},
   "outputs": [
    {
     "ename": "FileNotFoundError",
     "evalue": "[Errno 2] No such file or directory: '/desktop/Date.txt'",
     "output_type": "error",
     "traceback": [
      "\u001b[1;31m---------------------------------------------------------------------------\u001b[0m",
      "\u001b[1;31mFileNotFoundError\u001b[0m                         Traceback (most recent call last)",
      "\u001b[1;32m~\\AppData\\Local\\Temp\\ipykernel_6112\\1873413270.py\u001b[0m in \u001b[0;36m<module>\u001b[1;34m\u001b[0m\n\u001b[1;32m----> 1\u001b[1;33m \u001b[1;32mwith\u001b[0m \u001b[0mopen\u001b[0m\u001b[1;33m(\u001b[0m\u001b[1;34m\"/desktop/Date.txt\"\u001b[0m\u001b[1;33m)\u001b[0m \u001b[1;32mas\u001b[0m \u001b[0mfile\u001b[0m\u001b[1;33m:\u001b[0m\u001b[1;33m\u001b[0m\u001b[1;33m\u001b[0m\u001b[0m\n\u001b[0m\u001b[0;32m      2\u001b[0m     \u001b[1;32mfor\u001b[0m \u001b[0mline\u001b[0m \u001b[1;32min\u001b[0m \u001b[0mfile\u001b[0m\u001b[1;33m:\u001b[0m\u001b[1;33m\u001b[0m\u001b[1;33m\u001b[0m\u001b[0m\n\u001b[0;32m      3\u001b[0m         \u001b[0mdate\u001b[0m\u001b[1;33m=\u001b[0m\u001b[0mre\u001b[0m\u001b[1;33m.\u001b[0m\u001b[0mfindall\u001b[0m\u001b[1;33m(\u001b[0m\u001b[1;34mr'\\d[0-9-]+'\u001b[0m\u001b[1;33m,\u001b[0m\u001b[0mline\u001b[0m\u001b[1;33m)\u001b[0m\u001b[1;33m\u001b[0m\u001b[1;33m\u001b[0m\u001b[0m\n\u001b[0;32m      4\u001b[0m         \u001b[0mprint\u001b[0m\u001b[1;33m(\u001b[0m\u001b[0mdate\u001b[0m\u001b[1;33m)\u001b[0m\u001b[1;33m\u001b[0m\u001b[1;33m\u001b[0m\u001b[0m\n",
      "\u001b[1;31mFileNotFoundError\u001b[0m: [Errno 2] No such file or directory: '/desktop/Date.txt'"
     ]
    }
   ],
   "source": [
    "with open(\"/desktop/Date.txt\") as file:\n",
    "    for line in file:\n",
    "        date=re.findall(r'\\d[0-9-]+',line)\n",
    "        print(date)"
   ]
  },
  {
   "cell_type": "code",
   "execution_count": null,
   "id": "5bdeb5fa",
   "metadata": {},
   "outputs": [],
   "source": []
  },
  {
   "cell_type": "markdown",
   "id": "38b3829a",
   "metadata": {},
   "source": [
    "# Question 30- Write a Python program to replace all occurrences of a space, comma, or dot with a colon."
   ]
  },
  {
   "cell_type": "code",
   "execution_count": 398,
   "id": "bcea8d8a",
   "metadata": {},
   "outputs": [
    {
     "name": "stdout",
     "output_type": "stream",
     "text": [
      "Python:Exercises::PHP:exercises:\n"
     ]
    }
   ],
   "source": [
    "sample30=\"Python Exercises, PHP exercises.\"\n",
    "pattern30=r'[\\s,.]'\n",
    "result30=re.sub(pattern30,\":\",sample30)\n",
    "print(result30)"
   ]
  },
  {
   "cell_type": "code",
   "execution_count": null,
   "id": "c268b3be",
   "metadata": {},
   "outputs": [],
   "source": []
  }
 ],
 "metadata": {
  "kernelspec": {
   "display_name": "Python 3 (ipykernel)",
   "language": "python",
   "name": "python3"
  },
  "language_info": {
   "codemirror_mode": {
    "name": "ipython",
    "version": 3
   },
   "file_extension": ".py",
   "mimetype": "text/x-python",
   "name": "python",
   "nbconvert_exporter": "python",
   "pygments_lexer": "ipython3",
   "version": "3.9.13"
  }
 },
 "nbformat": 4,
 "nbformat_minor": 5
}
