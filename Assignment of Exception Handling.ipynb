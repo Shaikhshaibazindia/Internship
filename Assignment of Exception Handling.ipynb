{
 "cells": [
  {
   "cell_type": "code",
   "execution_count": 1,
   "id": "444b16e6",
   "metadata": {},
   "outputs": [
    {
     "name": "stdout",
     "output_type": "stream",
     "text": [
      "Requirement already satisfied: selenium in c:\\users\\shaikh\\anaconda3\\lib\\site-packages (4.10.0)\n",
      "Requirement already satisfied: urllib3[socks]<3,>=1.26 in c:\\users\\shaikh\\anaconda3\\lib\\site-packages (from selenium) (1.26.16)\n",
      "Requirement already satisfied: trio~=0.17 in c:\\users\\shaikh\\anaconda3\\lib\\site-packages (from selenium) (0.22.2)\n",
      "Requirement already satisfied: trio-websocket~=0.9 in c:\\users\\shaikh\\anaconda3\\lib\\site-packages (from selenium) (0.10.3)\n",
      "Requirement already satisfied: certifi>=2021.10.8 in c:\\users\\shaikh\\anaconda3\\lib\\site-packages (from selenium) (2023.7.22)\n",
      "Requirement already satisfied: attrs>=20.1.0 in c:\\users\\shaikh\\anaconda3\\lib\\site-packages (from trio~=0.17->selenium) (22.1.0)\n",
      "Requirement already satisfied: sortedcontainers in c:\\users\\shaikh\\anaconda3\\lib\\site-packages (from trio~=0.17->selenium) (2.4.0)\n",
      "Requirement already satisfied: idna in c:\\users\\shaikh\\anaconda3\\lib\\site-packages (from trio~=0.17->selenium) (3.4)\n",
      "Requirement already satisfied: outcome in c:\\users\\shaikh\\anaconda3\\lib\\site-packages (from trio~=0.17->selenium) (1.2.0)\n",
      "Requirement already satisfied: sniffio in c:\\users\\shaikh\\anaconda3\\lib\\site-packages (from trio~=0.17->selenium) (1.2.0)\n",
      "Requirement already satisfied: cffi>=1.14 in c:\\users\\shaikh\\anaconda3\\lib\\site-packages (from trio~=0.17->selenium) (1.15.1)\n",
      "Requirement already satisfied: exceptiongroup in c:\\users\\shaikh\\anaconda3\\lib\\site-packages (from trio-websocket~=0.9->selenium) (1.1.2)\n",
      "Requirement already satisfied: wsproto>=0.14 in c:\\users\\shaikh\\anaconda3\\lib\\site-packages (from trio-websocket~=0.9->selenium) (1.2.0)\n",
      "Requirement already satisfied: PySocks!=1.5.7,<2.0,>=1.5.6 in c:\\users\\shaikh\\anaconda3\\lib\\site-packages (from urllib3[socks]<3,>=1.26->selenium) (1.7.1)\n",
      "Requirement already satisfied: pycparser in c:\\users\\shaikh\\anaconda3\\lib\\site-packages (from cffi>=1.14->trio~=0.17->selenium) (2.21)\n",
      "Requirement already satisfied: h11<1,>=0.9.0 in c:\\users\\shaikh\\anaconda3\\lib\\site-packages (from wsproto>=0.14->trio-websocket~=0.9->selenium) (0.14.0)\n"
     ]
    }
   ],
   "source": [
    "!pip install selenium"
   ]
  },
  {
   "cell_type": "code",
   "execution_count": 2,
   "id": "4a062752",
   "metadata": {},
   "outputs": [
    {
     "name": "stdout",
     "output_type": "stream",
     "text": [
      "Requirement already satisfied: webdriver-manager in c:\\users\\shaikh\\anaconda3\\lib\\site-packages (3.8.6)\n",
      "Requirement already satisfied: requests in c:\\users\\shaikh\\anaconda3\\lib\\site-packages (from webdriver-manager) (2.31.0)\n",
      "Requirement already satisfied: python-dotenv in c:\\users\\shaikh\\anaconda3\\lib\\site-packages (from webdriver-manager) (1.0.0)\n",
      "Requirement already satisfied: tqdm in c:\\users\\shaikh\\anaconda3\\lib\\site-packages (from webdriver-manager) (4.65.0)\n",
      "Requirement already satisfied: packaging in c:\\users\\shaikh\\anaconda3\\lib\\site-packages (from webdriver-manager) (23.0)\n",
      "Requirement already satisfied: charset-normalizer<4,>=2 in c:\\users\\shaikh\\anaconda3\\lib\\site-packages (from requests->webdriver-manager) (2.0.4)\n",
      "Requirement already satisfied: idna<4,>=2.5 in c:\\users\\shaikh\\anaconda3\\lib\\site-packages (from requests->webdriver-manager) (3.4)\n",
      "Requirement already satisfied: urllib3<3,>=1.21.1 in c:\\users\\shaikh\\anaconda3\\lib\\site-packages (from requests->webdriver-manager) (1.26.16)\n",
      "Requirement already satisfied: certifi>=2017.4.17 in c:\\users\\shaikh\\anaconda3\\lib\\site-packages (from requests->webdriver-manager) (2023.7.22)\n",
      "Requirement already satisfied: colorama in c:\\users\\shaikh\\anaconda3\\lib\\site-packages (from tqdm->webdriver-manager) (0.4.6)\n"
     ]
    }
   ],
   "source": [
    "!pip install webdriver-manager"
   ]
  },
  {
   "cell_type": "markdown",
   "id": "fdf1b889",
   "metadata": {},
   "source": [
    "# 1. Write a python program which searches all the product under a particular product from www.amazon.in. The product to be searched will be taken as input from user. For e.g. If user input is ‘guitar’. Then search for guitars."
   ]
  },
  {
   "cell_type": "code",
   "execution_count": 10,
   "id": "e4daadd0",
   "metadata": {},
   "outputs": [],
   "source": [
    "#let's import required libraries\n",
    "import selenium                             #library that is used to work with selenium\n",
    "from selenium import webdriver              #importing webdriver module from selenium to open automated chrome window\n",
    "from selenium.webdriver.support.ui import WebDriverWait\n",
    "from selenium.webdriver.common.by import By #importing inbulit class By\n",
    "import warnings                             #To ignore any sort of warnings  \n",
    "warnings.filterwarnings('ignore')\n",
    "import time                                 #use to stop search engine for few seconds\n",
    "import pandas as pd\n",
    "from bs4 import BeautifulSoup\n",
    "import requests\n",
    "#for handling the exceptions while scrapping\n",
    "from selenium.common.exceptions import NoSuchElementException,TimeoutException\n",
    "from selenium.webdriver.support import expected_conditions as EC\n",
    "\n"
   ]
  },
  {
   "cell_type": "code",
   "execution_count": 11,
   "id": "050681de",
   "metadata": {},
   "outputs": [
    {
     "name": "stdout",
     "output_type": "stream",
     "text": [
      "Enter the value :Guitar\n"
     ]
    },
    {
     "data": {
      "text/plain": [
       "'Guitar'"
      ]
     },
     "execution_count": 11,
     "metadata": {},
     "output_type": "execute_result"
    }
   ],
   "source": [
    "Value=input(\"Enter the value :\")\n",
    "Value"
   ]
  },
  {
   "cell_type": "markdown",
   "id": "a83a12f2",
   "metadata": {},
   "source": [
    "# 2. In the above question, now scrape the following details of each product listed in first 3 pages of your search results and save it in a data frame and csv."
   ]
  },
  {
   "cell_type": "code",
   "execution_count": 12,
   "id": "c7e895c5",
   "metadata": {},
   "outputs": [],
   "source": [
    "##Opening the amazon page in automated driver page\n",
    "driver=webdriver.Chrome()\n",
    "driver.get(\"https://www.amazon.in/\")\n",
    "delay=10\n",
    "\n",
    "\n",
    "try:\n",
    "    product=driver.find_element(By.XPATH,'/html/body/div[1]/header/div/div[1]/div[2]/div/form/div[2]/div[1]/input')\n",
    "    product.send_keys(\"Guitar\")\n",
    "except ElementNotInteractableException as e:\n",
    "    print(\"Exception raised :\",e)\n",
    "    \n",
    "search=driver.find_element(By.XPATH,'/html/body/div[1]/header/div/div[1]/div[2]/div/form/div[3]/div/span/input')\n",
    "search.click()"
   ]
  },
  {
   "cell_type": "code",
   "execution_count": 13,
   "id": "1c673b5a",
   "metadata": {},
   "outputs": [],
   "source": [
    "#scrape all product URLS\n",
    "product_urls=[]\n",
    "start=0\n",
    "end=3\n",
    "for page in range(start,end): #for loop for scrapping 3 pages\n",
    "    url=driver.find_elements(By.XPATH,'//a[@class=\"a-link-normal s-underline-text s-underline-link-text s-link-style a-text-normal\"]')\n",
    "    for i in url:\n",
    "        product_urls.append(i.get_attribute(\"href\"))\n",
    "nxt_button=driver.find_element(By.XPATH,'/html/body/div[1]/div[2]/div[1]/div[1]/div/span[1]/div[1]/div[67]/div/div/span/a[3]')\n",
    "nxt_button.click()\n",
    "time.sleep(4)"
   ]
  },
  {
   "cell_type": "code",
   "execution_count": 14,
   "id": "2d338a8f",
   "metadata": {},
   "outputs": [
    {
     "data": {
      "text/plain": [
       "186"
      ]
     },
     "execution_count": 14,
     "metadata": {},
     "output_type": "execute_result"
    }
   ],
   "source": [
    "len(product_urls)"
   ]
  },
  {
   "cell_type": "code",
   "execution_count": 34,
   "id": "1c8d4bd6",
   "metadata": {},
   "outputs": [
    {
     "ename": "TimeoutException",
     "evalue": "Message: timeout: Timed out receiving message from renderer: 255.089\n  (Session info: chrome=115.0.5790.170)\nStacktrace:\nBacktrace:\n\tGetHandleVerifier [0x00B8A813+48355]\n\t(No symbol) [0x00B1C4B1]\n\t(No symbol) [0x00A25358]\n\t(No symbol) [0x00A1849F]\n\t(No symbol) [0x00A182EC]\n\t(No symbol) [0x00A16F26]\n\t(No symbol) [0x00A177AA]\n\t(No symbol) [0x00A203E5]\n\t(No symbol) [0x00A2C668]\n\t(No symbol) [0x00A2F566]\n\t(No symbol) [0x00A17BC3]\n\t(No symbol) [0x00A2C539]\n\t(No symbol) [0x00A7CB1F]\n\t(No symbol) [0x00A6A536]\n\t(No symbol) [0x00A482DC]\n\t(No symbol) [0x00A493DD]\n\tGetHandleVerifier [0x00DEAABD+2539405]\n\tGetHandleVerifier [0x00E2A78F+2800735]\n\tGetHandleVerifier [0x00E2456C+2775612]\n\tGetHandleVerifier [0x00C151E0+616112]\n\t(No symbol) [0x00B25F8C]\n\t(No symbol) [0x00B22328]\n\t(No symbol) [0x00B2240B]\n\t(No symbol) [0x00B14FF7]\n\tBaseThreadInitThunk [0x754000C9+25]\n\tRtlGetAppContainerNamedObjectPath [0x774A7B1E+286]\n\tRtlGetAppContainerNamedObjectPath [0x774A7AEE+238]\n",
     "output_type": "error",
     "traceback": [
      "\u001b[1;31m---------------------------------------------------------------------------\u001b[0m",
      "\u001b[1;31mTimeoutException\u001b[0m                          Traceback (most recent call last)",
      "Cell \u001b[1;32mIn[34], line 9\u001b[0m\n\u001b[0;32m      6\u001b[0m Availability\u001b[38;5;241m=\u001b[39m[]\n\u001b[0;32m      8\u001b[0m \u001b[38;5;28;01mfor\u001b[39;00m url \u001b[38;5;129;01min\u001b[39;00m product_urls: \u001b[38;5;66;03m#loop for every guitar in list\u001b[39;00m\n\u001b[1;32m----> 9\u001b[0m     driver\u001b[38;5;241m.\u001b[39mget(url)\n\u001b[0;32m     10\u001b[0m     time\u001b[38;5;241m.\u001b[39msleep(\u001b[38;5;241m10\u001b[39m)\n\u001b[0;32m     12\u001b[0m     \u001b[38;5;28;01mtry\u001b[39;00m:\n\u001b[0;32m     13\u001b[0m         \u001b[38;5;66;03m# Use explicit wait for the brand element to appear\u001b[39;00m\n",
      "File \u001b[1;32m~\\anaconda3\\Lib\\site-packages\\selenium\\webdriver\\remote\\webdriver.py:355\u001b[0m, in \u001b[0;36mWebDriver.get\u001b[1;34m(self, url)\u001b[0m\n\u001b[0;32m    353\u001b[0m \u001b[38;5;28;01mdef\u001b[39;00m \u001b[38;5;21mget\u001b[39m(\u001b[38;5;28mself\u001b[39m, url: \u001b[38;5;28mstr\u001b[39m) \u001b[38;5;241m-\u001b[39m\u001b[38;5;241m>\u001b[39m \u001b[38;5;28;01mNone\u001b[39;00m:\n\u001b[0;32m    354\u001b[0m \u001b[38;5;250m    \u001b[39m\u001b[38;5;124;03m\"\"\"Loads a web page in the current browser session.\"\"\"\u001b[39;00m\n\u001b[1;32m--> 355\u001b[0m     \u001b[38;5;28mself\u001b[39m\u001b[38;5;241m.\u001b[39mexecute(Command\u001b[38;5;241m.\u001b[39mGET, {\u001b[38;5;124m\"\u001b[39m\u001b[38;5;124murl\u001b[39m\u001b[38;5;124m\"\u001b[39m: url})\n",
      "File \u001b[1;32m~\\anaconda3\\Lib\\site-packages\\selenium\\webdriver\\remote\\webdriver.py:346\u001b[0m, in \u001b[0;36mWebDriver.execute\u001b[1;34m(self, driver_command, params)\u001b[0m\n\u001b[0;32m    344\u001b[0m response \u001b[38;5;241m=\u001b[39m \u001b[38;5;28mself\u001b[39m\u001b[38;5;241m.\u001b[39mcommand_executor\u001b[38;5;241m.\u001b[39mexecute(driver_command, params)\n\u001b[0;32m    345\u001b[0m \u001b[38;5;28;01mif\u001b[39;00m response:\n\u001b[1;32m--> 346\u001b[0m     \u001b[38;5;28mself\u001b[39m\u001b[38;5;241m.\u001b[39merror_handler\u001b[38;5;241m.\u001b[39mcheck_response(response)\n\u001b[0;32m    347\u001b[0m     response[\u001b[38;5;124m\"\u001b[39m\u001b[38;5;124mvalue\u001b[39m\u001b[38;5;124m\"\u001b[39m] \u001b[38;5;241m=\u001b[39m \u001b[38;5;28mself\u001b[39m\u001b[38;5;241m.\u001b[39m_unwrap_value(response\u001b[38;5;241m.\u001b[39mget(\u001b[38;5;124m\"\u001b[39m\u001b[38;5;124mvalue\u001b[39m\u001b[38;5;124m\"\u001b[39m, \u001b[38;5;28;01mNone\u001b[39;00m))\n\u001b[0;32m    348\u001b[0m     \u001b[38;5;28;01mreturn\u001b[39;00m response\n",
      "File \u001b[1;32m~\\anaconda3\\Lib\\site-packages\\selenium\\webdriver\\remote\\errorhandler.py:245\u001b[0m, in \u001b[0;36mErrorHandler.check_response\u001b[1;34m(self, response)\u001b[0m\n\u001b[0;32m    243\u001b[0m         alert_text \u001b[38;5;241m=\u001b[39m value[\u001b[38;5;124m\"\u001b[39m\u001b[38;5;124malert\u001b[39m\u001b[38;5;124m\"\u001b[39m]\u001b[38;5;241m.\u001b[39mget(\u001b[38;5;124m\"\u001b[39m\u001b[38;5;124mtext\u001b[39m\u001b[38;5;124m\"\u001b[39m)\n\u001b[0;32m    244\u001b[0m     \u001b[38;5;28;01mraise\u001b[39;00m exception_class(message, screen, stacktrace, alert_text)  \u001b[38;5;66;03m# type: ignore[call-arg]  # mypy is not smart enough here\u001b[39;00m\n\u001b[1;32m--> 245\u001b[0m \u001b[38;5;28;01mraise\u001b[39;00m exception_class(message, screen, stacktrace)\n",
      "\u001b[1;31mTimeoutException\u001b[0m: Message: timeout: Timed out receiving message from renderer: 255.089\n  (Session info: chrome=115.0.5790.170)\nStacktrace:\nBacktrace:\n\tGetHandleVerifier [0x00B8A813+48355]\n\t(No symbol) [0x00B1C4B1]\n\t(No symbol) [0x00A25358]\n\t(No symbol) [0x00A1849F]\n\t(No symbol) [0x00A182EC]\n\t(No symbol) [0x00A16F26]\n\t(No symbol) [0x00A177AA]\n\t(No symbol) [0x00A203E5]\n\t(No symbol) [0x00A2C668]\n\t(No symbol) [0x00A2F566]\n\t(No symbol) [0x00A17BC3]\n\t(No symbol) [0x00A2C539]\n\t(No symbol) [0x00A7CB1F]\n\t(No symbol) [0x00A6A536]\n\t(No symbol) [0x00A482DC]\n\t(No symbol) [0x00A493DD]\n\tGetHandleVerifier [0x00DEAABD+2539405]\n\tGetHandleVerifier [0x00E2A78F+2800735]\n\tGetHandleVerifier [0x00E2456C+2775612]\n\tGetHandleVerifier [0x00C151E0+616112]\n\t(No symbol) [0x00B25F8C]\n\t(No symbol) [0x00B22328]\n\t(No symbol) [0x00B2240B]\n\t(No symbol) [0x00B14FF7]\n\tBaseThreadInitThunk [0x754000C9+25]\n\tRtlGetAppContainerNamedObjectPath [0x774A7B1E+286]\n\tRtlGetAppContainerNamedObjectPath [0x774A7AEE+238]\n"
     ]
    }
   ],
   "source": [
    "Brand=[]\n",
    "Name_of_Product=[]\n",
    "Price=[]\n",
    "Return_Exchange=[]\n",
    "Expected_Delivery=[]\n",
    "Availability=[]\n",
    "\n",
    "for url in product_urls: #loop for every guitar in list\n",
    "    driver.get(url)\n",
    "    time.sleep(10)\n",
    "    \n",
    "    try:\n",
    "        # Use explicit wait for the brand element to appear\n",
    "        Delivery= WebDriverWait(driver,10).until(EC.visibility_of_element_located((By.XPATH,'//*[@id=\"mir-layout-DELIVERY_BLOCK-slot-PRIMARY_DELIVERY_MESSAGE_LARGE\"]/a/span')))\n",
    "        Expected_Delvery.append(Delivery.text)\n",
    "    except (TimeoutException,NoSuchElementException):\n",
    "        Expected_Delivery.append(\"-\")\n",
    "    "
   ]
  },
  {
   "cell_type": "code",
   "execution_count": 27,
   "id": "a75f594f",
   "metadata": {
    "scrolled": true
   },
   "outputs": [
    {
     "ename": "KeyboardInterrupt",
     "evalue": "",
     "output_type": "error",
     "traceback": [
      "\u001b[1;31m---------------------------------------------------------------------------\u001b[0m",
      "\u001b[1;31mKeyboardInterrupt\u001b[0m                         Traceback (most recent call last)",
      "Cell \u001b[1;32mIn[27], line 10\u001b[0m\n\u001b[0;32m      8\u001b[0m \u001b[38;5;28;01mfor\u001b[39;00m url \u001b[38;5;129;01min\u001b[39;00m product_urls: \u001b[38;5;66;03m#loop for every guitar in list\u001b[39;00m\n\u001b[0;32m      9\u001b[0m     driver\u001b[38;5;241m.\u001b[39mget(url)\n\u001b[1;32m---> 10\u001b[0m     time\u001b[38;5;241m.\u001b[39msleep(\u001b[38;5;241m10\u001b[39m)\n\u001b[0;32m     12\u001b[0m     \u001b[38;5;28;01mtry\u001b[39;00m:\n\u001b[0;32m     13\u001b[0m         \u001b[38;5;66;03m# Use explicit wait for the brand element to appear\u001b[39;00m\n\u001b[0;32m     14\u001b[0m         brand_element \u001b[38;5;241m=\u001b[39m WebDriverWait(driver,\u001b[38;5;241m10\u001b[39m)\u001b[38;5;241m.\u001b[39muntil(EC\u001b[38;5;241m.\u001b[39mvisibility_of_element_located((By\u001b[38;5;241m.\u001b[39mXPATH,\u001b[38;5;124m'\u001b[39m\u001b[38;5;124m//*[@id=\u001b[39m\u001b[38;5;124m\"\u001b[39m\u001b[38;5;124mproductOverview_feature_div\u001b[39m\u001b[38;5;124m\"\u001b[39m\u001b[38;5;124m]/div/table/tbody/tr[1]/td[2]/span\u001b[39m\u001b[38;5;124m'\u001b[39m)))\n",
      "\u001b[1;31mKeyboardInterrupt\u001b[0m: "
     ]
    }
   ],
   "source": [
    "Brand=[]\n",
    "Name_of_Product=[]\n",
    "Price=[]\n",
    "Return_Exchange=[]\n",
    "Expected_Delivery=[]\n",
    "Availability=[]\n",
    "\n",
    "for url in product_urls: #loop for every guitar in list\n",
    "    driver.get(url)\n",
    "    time.sleep(10)\n",
    "    \n",
    "    try:\n",
    "        # Use explicit wait for the brand element to appear\n",
    "        brand_element = WebDriverWait(driver,10).until(EC.visibility_of_element_located((By.XPATH,'//*[@id=\"productOverview_feature_div\"]/div/table/tbody/tr[1]/td[2]/span')))\n",
    "        Brand.append(brand_element.text)\n",
    "    except (TimeoutException,NoSuchElementException):\n",
    "        Brand.append(\"-\")\n",
    "        \n",
    "    try:\n",
    "        Name_element = WebDriverWait(driver,10).until(EC.visibility_of_element_located((By.XPATH,'//*[@id=\"title_feature_div\"]/div/h1/span')))\n",
    "        Name_of_Product.append(Name_element.text)\n",
    "    except (TimeoutException,NoSuchElementException):\n",
    "        Name_of_Product.append(\"-\")\n",
    "    \n",
    "    try:\n",
    "        price= WebDriverWait(driver,10).until(EC.visibility_of_element_located((By.XPATH,'//*[@id=\"corePrice_feature_div\"]/div///span')))\n",
    "        price.append(price.text)\n",
    "    except (TimeoutException,NoSuchElementException):\n",
    "        price.append(\"-\")\n",
    "    \n",
    "    try:\n",
    "        Return= WebDriverWait(driver,10).until(EC.visibility_of_element_located((By.XPATH,'//*[@id=\"RETURNS_POLICY\"]/span/div[2]/span')))\n",
    "        Return_Exchange.append(Return_Exhange.text)\n",
    "    except (TimeoutException,NoSuchElementException):\n",
    "        Return_Exchange.append(\"-\")\n",
    "  \n",
    "  \n",
    "    try:\n",
    "        Availability_element= WebDriverWait(driver,10).until(EC.visibility_of_element_located((By.XPATH,'//*[@id=\"availability\"]/span')))\n",
    "        Availability.append(Availability.text)\n",
    "    except (TimeoutException,NoSuchElementException):\n",
    "        Availability.append(\"-\")   \n",
    "        "
   ]
  },
  {
   "cell_type": "code",
   "execution_count": 50,
   "id": "0131ffc6",
   "metadata": {},
   "outputs": [
    {
     "name": "stdout",
     "output_type": "stream",
     "text": [
      "84 0 84 84 84\n"
     ]
    }
   ],
   "source": [
    "print(len(Name_of_Product),len\n",
    "(Price),len\n",
    "(Return_Exchange),len\n",
    "(Expected_Delivery),len\n",
    "(Availability))\n"
   ]
  },
  {
   "cell_type": "code",
   "execution_count": 30,
   "id": "b1e2a107",
   "metadata": {},
   "outputs": [
    {
     "name": "stdout",
     "output_type": "stream",
     "text": [
      "14\n"
     ]
    }
   ],
   "source": [
    "print(len(Expected_Delivery))"
   ]
  },
  {
   "cell_type": "code",
   "execution_count": 33,
   "id": "737cc4ed",
   "metadata": {},
   "outputs": [
    {
     "data": {
      "text/html": [
       "<div>\n",
       "<style scoped>\n",
       "    .dataframe tbody tr th:only-of-type {\n",
       "        vertical-align: middle;\n",
       "    }\n",
       "\n",
       "    .dataframe tbody tr th {\n",
       "        vertical-align: top;\n",
       "    }\n",
       "\n",
       "    .dataframe thead th {\n",
       "        text-align: right;\n",
       "    }\n",
       "</style>\n",
       "<table border=\"1\" class=\"dataframe\">\n",
       "  <thead>\n",
       "    <tr style=\"text-align: right;\">\n",
       "      <th></th>\n",
       "      <th>Expected Delivery</th>\n",
       "    </tr>\n",
       "  </thead>\n",
       "  <tbody>\n",
       "    <tr>\n",
       "      <th>0</th>\n",
       "      <td>-</td>\n",
       "    </tr>\n",
       "    <tr>\n",
       "      <th>1</th>\n",
       "      <td>-</td>\n",
       "    </tr>\n",
       "    <tr>\n",
       "      <th>2</th>\n",
       "      <td>-</td>\n",
       "    </tr>\n",
       "    <tr>\n",
       "      <th>3</th>\n",
       "      <td>-</td>\n",
       "    </tr>\n",
       "    <tr>\n",
       "      <th>4</th>\n",
       "      <td>-</td>\n",
       "    </tr>\n",
       "    <tr>\n",
       "      <th>5</th>\n",
       "      <td>-</td>\n",
       "    </tr>\n",
       "    <tr>\n",
       "      <th>6</th>\n",
       "      <td>-</td>\n",
       "    </tr>\n",
       "    <tr>\n",
       "      <th>7</th>\n",
       "      <td>-</td>\n",
       "    </tr>\n",
       "    <tr>\n",
       "      <th>8</th>\n",
       "      <td>-</td>\n",
       "    </tr>\n",
       "    <tr>\n",
       "      <th>9</th>\n",
       "      <td>-</td>\n",
       "    </tr>\n",
       "    <tr>\n",
       "      <th>10</th>\n",
       "      <td>-</td>\n",
       "    </tr>\n",
       "    <tr>\n",
       "      <th>11</th>\n",
       "      <td>-</td>\n",
       "    </tr>\n",
       "    <tr>\n",
       "      <th>12</th>\n",
       "      <td>-</td>\n",
       "    </tr>\n",
       "    <tr>\n",
       "      <th>13</th>\n",
       "      <td>-</td>\n",
       "    </tr>\n",
       "  </tbody>\n",
       "</table>\n",
       "</div>"
      ],
      "text/plain": [
       "   Expected Delivery\n",
       "0                  -\n",
       "1                  -\n",
       "2                  -\n",
       "3                  -\n",
       "4                  -\n",
       "5                  -\n",
       "6                  -\n",
       "7                  -\n",
       "8                  -\n",
       "9                  -\n",
       "10                 -\n",
       "11                 -\n",
       "12                 -\n",
       "13                 -"
      ]
     },
     "execution_count": 33,
     "metadata": {},
     "output_type": "execute_result"
    }
   ],
   "source": [
    "df1=pd.DataFrame({\"Expected Delivery\":Expected_Delivery})\n",
    "df1"
   ]
  },
  {
   "cell_type": "code",
   "execution_count": 52,
   "id": "5a08978a",
   "metadata": {},
   "outputs": [
    {
     "data": {
      "text/html": [
       "<div>\n",
       "<style scoped>\n",
       "    .dataframe tbody tr th:only-of-type {\n",
       "        vertical-align: middle;\n",
       "    }\n",
       "\n",
       "    .dataframe tbody tr th {\n",
       "        vertical-align: top;\n",
       "    }\n",
       "\n",
       "    .dataframe thead th {\n",
       "        text-align: right;\n",
       "    }\n",
       "</style>\n",
       "<table border=\"1\" class=\"dataframe\">\n",
       "  <thead>\n",
       "    <tr style=\"text-align: right;\">\n",
       "      <th></th>\n",
       "      <th>Brand Name</th>\n",
       "      <th>product name</th>\n",
       "      <th>return</th>\n",
       "      <th>delivery</th>\n",
       "      <th>avail</th>\n",
       "    </tr>\n",
       "  </thead>\n",
       "  <tbody>\n",
       "    <tr>\n",
       "      <th>0</th>\n",
       "      <td>Medellin</td>\n",
       "      <td>Medellin Acoustic Guitar (with guitar learning...</td>\n",
       "      <td>7 days Replacement</td>\n",
       "      <td>-</td>\n",
       "      <td>In stock</td>\n",
       "    </tr>\n",
       "    <tr>\n",
       "      <th>1</th>\n",
       "      <td>Kadence</td>\n",
       "      <td>Kadence A281 Professional Acoustic Rosewood gu...</td>\n",
       "      <td>7 days Replacement</td>\n",
       "      <td>-</td>\n",
       "      <td>In stock</td>\n",
       "    </tr>\n",
       "    <tr>\n",
       "      <th>2</th>\n",
       "      <td>Kadence</td>\n",
       "      <td>Kadence rosewood Guitar Frontier Series, Elect...</td>\n",
       "      <td>7 days Replacement</td>\n",
       "      <td>-</td>\n",
       "      <td>In stock</td>\n",
       "    </tr>\n",
       "    <tr>\n",
       "      <th>3</th>\n",
       "      <td>Medellin</td>\n",
       "      <td>Medellin Acoustic Guitar (with guitar learning...</td>\n",
       "      <td>7 days Replacement</td>\n",
       "      <td>-</td>\n",
       "      <td>In stock</td>\n",
       "    </tr>\n",
       "    <tr>\n",
       "      <th>4</th>\n",
       "      <td>JUAREZ</td>\n",
       "      <td>Juârez Acoustic Guitar, 38 Inch Cutaway, 038C ...</td>\n",
       "      <td>7 days Replacement</td>\n",
       "      <td>-</td>\n",
       "      <td>In stock</td>\n",
       "    </tr>\n",
       "    <tr>\n",
       "      <th>...</th>\n",
       "      <td>...</td>\n",
       "      <td>...</td>\n",
       "      <td>...</td>\n",
       "      <td>...</td>\n",
       "      <td>...</td>\n",
       "    </tr>\n",
       "    <tr>\n",
       "      <th>79</th>\n",
       "      <td>Intern</td>\n",
       "      <td>Intern INT-38C Acoustic Guitar Kit (Blue)</td>\n",
       "      <td>7 days Replacement</td>\n",
       "      <td>-</td>\n",
       "      <td>In stock</td>\n",
       "    </tr>\n",
       "    <tr>\n",
       "      <th>80</th>\n",
       "      <td>Kadence</td>\n",
       "      <td>Kadence Frontier Series, Acoustic Guitar With/...</td>\n",
       "      <td>7 days Replacement</td>\n",
       "      <td>-</td>\n",
       "      <td>In stock</td>\n",
       "    </tr>\n",
       "    <tr>\n",
       "      <th>81</th>\n",
       "      <td>YAMAHA</td>\n",
       "      <td>YAMAHA FX280 Natural Electro Acoustic Guitar</td>\n",
       "      <td>7 days Replacement</td>\n",
       "      <td>-</td>\n",
       "      <td>In stock</td>\n",
       "    </tr>\n",
       "    <tr>\n",
       "      <th>82</th>\n",
       "      <td>YAMAHA</td>\n",
       "      <td>Yamaha F280 Acoustic wood Guitar, Tobacco own ...</td>\n",
       "      <td>7 days Replacement</td>\n",
       "      <td>-</td>\n",
       "      <td>In stock</td>\n",
       "    </tr>\n",
       "    <tr>\n",
       "      <th>83</th>\n",
       "      <td>Medellin</td>\n",
       "      <td>Medellin Acoustic Guitar + (Free online learni...</td>\n",
       "      <td>7 days Replacement</td>\n",
       "      <td>-</td>\n",
       "      <td>In stock</td>\n",
       "    </tr>\n",
       "  </tbody>\n",
       "</table>\n",
       "<p>84 rows × 5 columns</p>\n",
       "</div>"
      ],
      "text/plain": [
       "   Brand Name                                       product name  \\\n",
       "0    Medellin  Medellin Acoustic Guitar (with guitar learning...   \n",
       "1     Kadence  Kadence A281 Professional Acoustic Rosewood gu...   \n",
       "2     Kadence  Kadence rosewood Guitar Frontier Series, Elect...   \n",
       "3    Medellin  Medellin Acoustic Guitar (with guitar learning...   \n",
       "4      JUAREZ  Juârez Acoustic Guitar, 38 Inch Cutaway, 038C ...   \n",
       "..        ...                                                ...   \n",
       "79     Intern          Intern INT-38C Acoustic Guitar Kit (Blue)   \n",
       "80    Kadence  Kadence Frontier Series, Acoustic Guitar With/...   \n",
       "81     YAMAHA       YAMAHA FX280 Natural Electro Acoustic Guitar   \n",
       "82     YAMAHA  Yamaha F280 Acoustic wood Guitar, Tobacco own ...   \n",
       "83   Medellin  Medellin Acoustic Guitar + (Free online learni...   \n",
       "\n",
       "                return delivery     avail  \n",
       "0   7 days Replacement        -  In stock  \n",
       "1   7 days Replacement        -  In stock  \n",
       "2   7 days Replacement        -  In stock  \n",
       "3   7 days Replacement        -  In stock  \n",
       "4   7 days Replacement        -  In stock  \n",
       "..                 ...      ...       ...  \n",
       "79  7 days Replacement        -  In stock  \n",
       "80  7 days Replacement        -  In stock  \n",
       "81  7 days Replacement        -  In stock  \n",
       "82  7 days Replacement        -  In stock  \n",
       "83  7 days Replacement        -  In stock  \n",
       "\n",
       "[84 rows x 5 columns]"
      ]
     },
     "execution_count": 52,
     "metadata": {},
     "output_type": "execute_result"
    }
   ],
   "source": [
    "df=pd.DataFrame({\"Brand Name\":Brand,\"product name\":Name_of_Product,\"return\":Return_Exchange,\"delivery\":Expected_Delivery,\"avail\":Availability})\n",
    "df"
   ]
  },
  {
   "cell_type": "code",
   "execution_count": null,
   "id": "a8fcc3cd",
   "metadata": {},
   "outputs": [],
   "source": []
  },
  {
   "cell_type": "code",
   "execution_count": null,
   "id": "6268dfad",
   "metadata": {},
   "outputs": [],
   "source": []
  },
  {
   "cell_type": "code",
   "execution_count": null,
   "id": "b63d2a73",
   "metadata": {},
   "outputs": [],
   "source": []
  },
  {
   "cell_type": "code",
   "execution_count": null,
   "id": "9e821f4e",
   "metadata": {},
   "outputs": [],
   "source": []
  },
  {
   "cell_type": "markdown",
   "id": "e4426ec0",
   "metadata": {},
   "source": [
    "# 3. Write a python program to access the search bar and search button on images.google.com and scrape 10 images each for keywords ‘fruits’, ‘cars’ and ‘Machine Learning’, ‘Guitar’, ‘Cakes’."
   ]
  },
  {
   "cell_type": "code",
   "execution_count": 2,
   "id": "ae9357e7",
   "metadata": {},
   "outputs": [],
   "source": [
    "\n",
    "#let's import required libraries\n",
    "import selenium                             #library that is used to work with selenium\n",
    "from selenium import webdriver              #importing webdriver module from selenium to open automated chrome window\n",
    "from selenium.webdriver.support.ui import WebDriverWait\n",
    "from selenium.webdriver.common.by import By #importing inbulit class By\n",
    "import warnings                             #To ignore any sort of warnings  \n",
    "warnings.filterwarnings('ignore')\n",
    "import time                                 #use to stop search engine for few seconds\n",
    "import pandas as pd\n",
    "from bs4 import BeautifulSoup\n",
    "import requests\n",
    "#for handling the exceptions while scrapping\n",
    "from selenium.common.exceptions import NoSuchElementException,ElementNotInteractableException,TimeoutException\n",
    "from selenium.webdriver.support import expected_conditions as EC\n"
   ]
  },
  {
   "cell_type": "code",
   "execution_count": 3,
   "id": "b80863a8",
   "metadata": {},
   "outputs": [
    {
     "name": "stderr",
     "output_type": "stream",
     "text": [
      "Error getting version of chromedriver 115. Retrying with chromedriver 114 (attempt 1/5)\n"
     ]
    }
   ],
   "source": [
    "##Opening the amazon page in automated driver page\n",
    "driver=webdriver.Chrome()\n",
    "driver.get(\"https://images.google.com\")\n",
    "delay=10\n",
    "\n"
   ]
  },
  {
   "cell_type": "code",
   "execution_count": 4,
   "id": "f619dd03",
   "metadata": {},
   "outputs": [],
   "source": [
    "#searching for the required terms\n",
    "\n",
    "image_tags=driver.find_element(By.CLASS_NAME,\"gLFyf\")\n",
    "image_tags.send_keys(\"Cake\")\n",
    "\n",
    "search=driver.find_element(By.XPATH,'//span[@class=\"z1asCe MZy1Rb\"]')\n",
    "search.click()"
   ]
  },
  {
   "cell_type": "code",
   "execution_count": 5,
   "id": "03e9b3b7",
   "metadata": {},
   "outputs": [],
   "source": [
    "#scrapping the images\n",
    "\n",
    "for _ in range(20):\n",
    "    driver.execute_script(\"window.scroll(0,100)\")\n",
    "    \n",
    "images=driver.find_elements(By.XPATH,'//img[@class=\"rg_i Q4LuWd\"]')\n",
    "\n",
    "img_urls=[]\n",
    "img_data=[]\n",
    "for image in images:\n",
    "    source=image.get_attribute('src')\n",
    "    if source is not None:\n",
    "        if(source[0:4])==('http'):\n",
    "            img_urls.append(source)\n",
    "            \n",
    "for i in range(len(img_urls)):\n",
    "    if i >=10:\n",
    "        break\n",
    "        print(\"downloading{0} of {1} image\".format(i,10))\n",
    "        response=requests.get(img_urls[i])\n",
    "        file=open(r\"c:Users\\shaikh\\Desktop\\image\"+str(i)+\".jpg\",+\"wb\")\n",
    "        file.write(response.content)"
   ]
  },
  {
   "cell_type": "code",
   "execution_count": 7,
   "id": "27f34414",
   "metadata": {},
   "outputs": [
    {
     "name": "stdout",
     "output_type": "stream",
     "text": [
      "13\n"
     ]
    }
   ],
   "source": [
    "print(len(img_urls))"
   ]
  },
  {
   "cell_type": "code",
   "execution_count": 8,
   "id": "b2814f45",
   "metadata": {},
   "outputs": [
    {
     "data": {
      "text/html": [
       "<div>\n",
       "<style scoped>\n",
       "    .dataframe tbody tr th:only-of-type {\n",
       "        vertical-align: middle;\n",
       "    }\n",
       "\n",
       "    .dataframe tbody tr th {\n",
       "        vertical-align: top;\n",
       "    }\n",
       "\n",
       "    .dataframe thead th {\n",
       "        text-align: right;\n",
       "    }\n",
       "</style>\n",
       "<table border=\"1\" class=\"dataframe\">\n",
       "  <thead>\n",
       "    <tr style=\"text-align: right;\">\n",
       "      <th></th>\n",
       "      <th>Image url</th>\n",
       "    </tr>\n",
       "  </thead>\n",
       "  <tbody>\n",
       "    <tr>\n",
       "      <th>0</th>\n",
       "      <td>https://encrypted-tbn0.gstatic.com/images?q=tb...</td>\n",
       "    </tr>\n",
       "    <tr>\n",
       "      <th>1</th>\n",
       "      <td>https://encrypted-tbn0.gstatic.com/images?q=tb...</td>\n",
       "    </tr>\n",
       "    <tr>\n",
       "      <th>2</th>\n",
       "      <td>https://encrypted-tbn0.gstatic.com/images?q=tb...</td>\n",
       "    </tr>\n",
       "    <tr>\n",
       "      <th>3</th>\n",
       "      <td>https://encrypted-tbn0.gstatic.com/images?q=tb...</td>\n",
       "    </tr>\n",
       "    <tr>\n",
       "      <th>4</th>\n",
       "      <td>https://encrypted-tbn0.gstatic.com/images?q=tb...</td>\n",
       "    </tr>\n",
       "    <tr>\n",
       "      <th>5</th>\n",
       "      <td>https://encrypted-tbn0.gstatic.com/images?q=tb...</td>\n",
       "    </tr>\n",
       "    <tr>\n",
       "      <th>6</th>\n",
       "      <td>https://encrypted-tbn0.gstatic.com/images?q=tb...</td>\n",
       "    </tr>\n",
       "    <tr>\n",
       "      <th>7</th>\n",
       "      <td>https://encrypted-tbn0.gstatic.com/images?q=tb...</td>\n",
       "    </tr>\n",
       "    <tr>\n",
       "      <th>8</th>\n",
       "      <td>https://encrypted-tbn0.gstatic.com/images?q=tb...</td>\n",
       "    </tr>\n",
       "    <tr>\n",
       "      <th>9</th>\n",
       "      <td>https://encrypted-tbn0.gstatic.com/images?q=tb...</td>\n",
       "    </tr>\n",
       "    <tr>\n",
       "      <th>10</th>\n",
       "      <td>https://encrypted-tbn0.gstatic.com/images?q=tb...</td>\n",
       "    </tr>\n",
       "    <tr>\n",
       "      <th>11</th>\n",
       "      <td>https://encrypted-tbn0.gstatic.com/images?q=tb...</td>\n",
       "    </tr>\n",
       "    <tr>\n",
       "      <th>12</th>\n",
       "      <td>https://encrypted-tbn0.gstatic.com/images?q=tb...</td>\n",
       "    </tr>\n",
       "  </tbody>\n",
       "</table>\n",
       "</div>"
      ],
      "text/plain": [
       "                                            Image url\n",
       "0   https://encrypted-tbn0.gstatic.com/images?q=tb...\n",
       "1   https://encrypted-tbn0.gstatic.com/images?q=tb...\n",
       "2   https://encrypted-tbn0.gstatic.com/images?q=tb...\n",
       "3   https://encrypted-tbn0.gstatic.com/images?q=tb...\n",
       "4   https://encrypted-tbn0.gstatic.com/images?q=tb...\n",
       "5   https://encrypted-tbn0.gstatic.com/images?q=tb...\n",
       "6   https://encrypted-tbn0.gstatic.com/images?q=tb...\n",
       "7   https://encrypted-tbn0.gstatic.com/images?q=tb...\n",
       "8   https://encrypted-tbn0.gstatic.com/images?q=tb...\n",
       "9   https://encrypted-tbn0.gstatic.com/images?q=tb...\n",
       "10  https://encrypted-tbn0.gstatic.com/images?q=tb...\n",
       "11  https://encrypted-tbn0.gstatic.com/images?q=tb...\n",
       "12  https://encrypted-tbn0.gstatic.com/images?q=tb..."
      ]
     },
     "execution_count": 8,
     "metadata": {},
     "output_type": "execute_result"
    }
   ],
   "source": [
    "df3=pd.DataFrame({\"Image url\":img_urls})\n",
    "df3"
   ]
  },
  {
   "cell_type": "code",
   "execution_count": null,
   "id": "8eebafc3",
   "metadata": {},
   "outputs": [],
   "source": []
  },
  {
   "cell_type": "markdown",
   "id": "7e233973",
   "metadata": {},
   "source": [
    "# 4. Write a python program to search for a smartphone(e.g.: Oneplus Nord, pixel 4A, etc.) on www.flipkart.com and scrape following details for all the search results displayed on 1st page. Details to be scraped:"
   ]
  },
  {
   "cell_type": "code",
   "execution_count": 1,
   "id": "463acf75",
   "metadata": {},
   "outputs": [],
   "source": [
    "#let's import required libraries\n",
    "import selenium                             #library that is used to work with selenium\n",
    "from selenium import webdriver              #importing webdriver module from selenium to open automated chrome window\n",
    "from selenium.webdriver.support.ui import WebDriverWait\n",
    "from selenium.webdriver.common.by import By #importing inbulit class By\n",
    "import warnings                             #To ignore any sort of warnings  \n",
    "warnings.filterwarnings('ignore')\n",
    "import time                                 #use to stop search engine for few seconds\n",
    "import pandas as pd\n",
    "from bs4 import BeautifulSoup\n",
    "import requests\n",
    "#for handling the exceptions while scrapping\n",
    "from selenium.common.exceptions import NoSuchElementException,ElementNotInteractableException,TimeoutException\n",
    "from selenium.webdriver.support import expected_conditions as EC\n"
   ]
  },
  {
   "cell_type": "code",
   "execution_count": 8,
   "id": "e36d4a8f",
   "metadata": {},
   "outputs": [
    {
     "ename": "NoSuchElementException",
     "evalue": "Message: no such element: Unable to locate element: {\"method\":\"css selector\",\"selector\":\".Pke_EE\"}\n  (Session info: chrome=115.0.5790.170); For documentation on this error, please visit: https://www.selenium.dev/documentation/webdriver/troubleshooting/errors#no-such-element-exception\nStacktrace:\nBacktrace:\n\tGetHandleVerifier [0x0065A813+48355]\n\t(No symbol) [0x005EC4B1]\n\t(No symbol) [0x004F5358]\n\t(No symbol) [0x005209A5]\n\t(No symbol) [0x00520B3B]\n\t(No symbol) [0x0054E232]\n\t(No symbol) [0x0053A784]\n\t(No symbol) [0x0054C922]\n\t(No symbol) [0x0053A536]\n\t(No symbol) [0x005182DC]\n\t(No symbol) [0x005193DD]\n\tGetHandleVerifier [0x008BAABD+2539405]\n\tGetHandleVerifier [0x008FA78F+2800735]\n\tGetHandleVerifier [0x008F456C+2775612]\n\tGetHandleVerifier [0x006E51E0+616112]\n\t(No symbol) [0x005F5F8C]\n\t(No symbol) [0x005F2328]\n\t(No symbol) [0x005F240B]\n\t(No symbol) [0x005E4FF7]\n\tBaseThreadInitThunk [0x774700C9+25]\n\tRtlGetAppContainerNamedObjectPath [0x77CA7B1E+286]\n\tRtlGetAppContainerNamedObjectPath [0x77CA7AEE+238]\n",
     "output_type": "error",
     "traceback": [
      "\u001b[1;31m---------------------------------------------------------------------------\u001b[0m",
      "\u001b[1;31mNoSuchElementException\u001b[0m                    Traceback (most recent call last)",
      "Cell \u001b[1;32mIn[8], line 5\u001b[0m\n\u001b[0;32m      2\u001b[0m driver\u001b[38;5;241m=\u001b[39mwebdriver\u001b[38;5;241m.\u001b[39mChrome()\n\u001b[0;32m      3\u001b[0m driver\u001b[38;5;241m.\u001b[39mget(\u001b[38;5;124m\"\u001b[39m\u001b[38;5;124mhttps://www.flipkart.com/\u001b[39m\u001b[38;5;124m\"\u001b[39m)\n\u001b[1;32m----> 5\u001b[0m mobile\u001b[38;5;241m=\u001b[39mdriver\u001b[38;5;241m.\u001b[39mfind_element(By\u001b[38;5;241m.\u001b[39mCLASS_NAME,\u001b[38;5;124m\"\u001b[39m\u001b[38;5;124mPke_EE\u001b[39m\u001b[38;5;124m\"\u001b[39m)\n\u001b[0;32m      6\u001b[0m mobile\u001b[38;5;241m.\u001b[39msend_keys(\u001b[38;5;124m\"\u001b[39m\u001b[38;5;124mOneplus Nord,pixel 4A\u001b[39m\u001b[38;5;124m\"\u001b[39m)\n\u001b[0;32m      8\u001b[0m search\u001b[38;5;241m=\u001b[39mdriver\u001b[38;5;241m.\u001b[39mfind_element(By\u001b[38;5;241m.\u001b[39mXPATH,\u001b[38;5;124m\"\u001b[39m\u001b[38;5;124m_2iLD__\u001b[39m\u001b[38;5;124m\"\u001b[39m)\n",
      "File \u001b[1;32m~\\anaconda3\\Lib\\site-packages\\selenium\\webdriver\\remote\\webdriver.py:740\u001b[0m, in \u001b[0;36mWebDriver.find_element\u001b[1;34m(self, by, value)\u001b[0m\n\u001b[0;32m    737\u001b[0m     by \u001b[38;5;241m=\u001b[39m By\u001b[38;5;241m.\u001b[39mCSS_SELECTOR\n\u001b[0;32m    738\u001b[0m     value \u001b[38;5;241m=\u001b[39m \u001b[38;5;124mf\u001b[39m\u001b[38;5;124m'\u001b[39m\u001b[38;5;124m[name=\u001b[39m\u001b[38;5;124m\"\u001b[39m\u001b[38;5;132;01m{\u001b[39;00mvalue\u001b[38;5;132;01m}\u001b[39;00m\u001b[38;5;124m\"\u001b[39m\u001b[38;5;124m]\u001b[39m\u001b[38;5;124m'\u001b[39m\n\u001b[1;32m--> 740\u001b[0m \u001b[38;5;28;01mreturn\u001b[39;00m \u001b[38;5;28mself\u001b[39m\u001b[38;5;241m.\u001b[39mexecute(Command\u001b[38;5;241m.\u001b[39mFIND_ELEMENT, {\u001b[38;5;124m\"\u001b[39m\u001b[38;5;124musing\u001b[39m\u001b[38;5;124m\"\u001b[39m: by, \u001b[38;5;124m\"\u001b[39m\u001b[38;5;124mvalue\u001b[39m\u001b[38;5;124m\"\u001b[39m: value})[\u001b[38;5;124m\"\u001b[39m\u001b[38;5;124mvalue\u001b[39m\u001b[38;5;124m\"\u001b[39m]\n",
      "File \u001b[1;32m~\\anaconda3\\Lib\\site-packages\\selenium\\webdriver\\remote\\webdriver.py:346\u001b[0m, in \u001b[0;36mWebDriver.execute\u001b[1;34m(self, driver_command, params)\u001b[0m\n\u001b[0;32m    344\u001b[0m response \u001b[38;5;241m=\u001b[39m \u001b[38;5;28mself\u001b[39m\u001b[38;5;241m.\u001b[39mcommand_executor\u001b[38;5;241m.\u001b[39mexecute(driver_command, params)\n\u001b[0;32m    345\u001b[0m \u001b[38;5;28;01mif\u001b[39;00m response:\n\u001b[1;32m--> 346\u001b[0m     \u001b[38;5;28mself\u001b[39m\u001b[38;5;241m.\u001b[39merror_handler\u001b[38;5;241m.\u001b[39mcheck_response(response)\n\u001b[0;32m    347\u001b[0m     response[\u001b[38;5;124m\"\u001b[39m\u001b[38;5;124mvalue\u001b[39m\u001b[38;5;124m\"\u001b[39m] \u001b[38;5;241m=\u001b[39m \u001b[38;5;28mself\u001b[39m\u001b[38;5;241m.\u001b[39m_unwrap_value(response\u001b[38;5;241m.\u001b[39mget(\u001b[38;5;124m\"\u001b[39m\u001b[38;5;124mvalue\u001b[39m\u001b[38;5;124m\"\u001b[39m, \u001b[38;5;28;01mNone\u001b[39;00m))\n\u001b[0;32m    348\u001b[0m     \u001b[38;5;28;01mreturn\u001b[39;00m response\n",
      "File \u001b[1;32m~\\anaconda3\\Lib\\site-packages\\selenium\\webdriver\\remote\\errorhandler.py:245\u001b[0m, in \u001b[0;36mErrorHandler.check_response\u001b[1;34m(self, response)\u001b[0m\n\u001b[0;32m    243\u001b[0m         alert_text \u001b[38;5;241m=\u001b[39m value[\u001b[38;5;124m\"\u001b[39m\u001b[38;5;124malert\u001b[39m\u001b[38;5;124m\"\u001b[39m]\u001b[38;5;241m.\u001b[39mget(\u001b[38;5;124m\"\u001b[39m\u001b[38;5;124mtext\u001b[39m\u001b[38;5;124m\"\u001b[39m)\n\u001b[0;32m    244\u001b[0m     \u001b[38;5;28;01mraise\u001b[39;00m exception_class(message, screen, stacktrace, alert_text)  \u001b[38;5;66;03m# type: ignore[call-arg]  # mypy is not smart enough here\u001b[39;00m\n\u001b[1;32m--> 245\u001b[0m \u001b[38;5;28;01mraise\u001b[39;00m exception_class(message, screen, stacktrace)\n",
      "\u001b[1;31mNoSuchElementException\u001b[0m: Message: no such element: Unable to locate element: {\"method\":\"css selector\",\"selector\":\".Pke_EE\"}\n  (Session info: chrome=115.0.5790.170); For documentation on this error, please visit: https://www.selenium.dev/documentation/webdriver/troubleshooting/errors#no-such-element-exception\nStacktrace:\nBacktrace:\n\tGetHandleVerifier [0x0065A813+48355]\n\t(No symbol) [0x005EC4B1]\n\t(No symbol) [0x004F5358]\n\t(No symbol) [0x005209A5]\n\t(No symbol) [0x00520B3B]\n\t(No symbol) [0x0054E232]\n\t(No symbol) [0x0053A784]\n\t(No symbol) [0x0054C922]\n\t(No symbol) [0x0053A536]\n\t(No symbol) [0x005182DC]\n\t(No symbol) [0x005193DD]\n\tGetHandleVerifier [0x008BAABD+2539405]\n\tGetHandleVerifier [0x008FA78F+2800735]\n\tGetHandleVerifier [0x008F456C+2775612]\n\tGetHandleVerifier [0x006E51E0+616112]\n\t(No symbol) [0x005F5F8C]\n\t(No symbol) [0x005F2328]\n\t(No symbol) [0x005F240B]\n\t(No symbol) [0x005E4FF7]\n\tBaseThreadInitThunk [0x774700C9+25]\n\tRtlGetAppContainerNamedObjectPath [0x77CA7B1E+286]\n\tRtlGetAppContainerNamedObjectPath [0x77CA7AEE+238]\n"
     ]
    }
   ],
   "source": [
    "##Opening the amazon page in automated driver page\n",
    "driver=webdriver.Chrome()\n",
    "driver.get(\"https://www.flipkart.com/\")\n",
    "\n",
    "mobile=driver.find_element(By.CLASS_NAME,\"Pke_EE\")\n",
    "mobile.send_keys(\"Oneplus Nord,pixel 4A\")\n",
    "\n",
    "search=driver.find_element(By.XPATH,\"_2iLD__\")\n",
    "search.click()"
   ]
  },
  {
   "cell_type": "markdown",
   "id": "4458f049",
   "metadata": {},
   "source": [
    "# 5. Write a program to scrap geospatial coordinates (latitude, longitude) of a city searched on google maps."
   ]
  },
  {
   "cell_type": "code",
   "execution_count": 10,
   "id": "ec9d2fe3",
   "metadata": {},
   "outputs": [],
   "source": [
    "#let's import required libraries\n",
    "import selenium                             #library that is used to work with selenium\n",
    "from selenium import webdriver              #importing webdriver module from selenium to open automated chrome window\n",
    "from selenium.webdriver.support.ui import WebDriverWait\n",
    "from selenium.webdriver.common.by import By #importing inbulit class By\n",
    "import warnings                             #To ignore any sort of warnings  \n",
    "warnings.filterwarnings('ignore')\n",
    "import time                                 #use to stop search engine for few seconds\n",
    "import pandas as pd\n",
    "from bs4 import BeautifulSoup\n",
    "import requests\n",
    "#for handling the exceptions while scrapping\n",
    "from selenium.common.exceptions import NoSuchElementException,ElementNotInteractableException,TimeoutException\n",
    "from selenium.webdriver.support import expected_conditions as EC\n"
   ]
  },
  {
   "cell_type": "code",
   "execution_count": 14,
   "id": "f7bc66b0",
   "metadata": {},
   "outputs": [],
   "source": [
    "##Opening the amazon page in automated driver page\n",
    "driver=webdriver.Chrome()\n",
    "driver.get(\"https://www.google.com/maps/\")\n",
    "\n",
    "mobile=driver.find_element(By.XPATH,'//input[@class=\"searchboxinput xiQnY\"]')\n",
    "mobile.send_keys(\"Pune\")\n",
    "\n",
    "search=driver.find_element(By.CLASS_NAME,\"pzfvzf\")\n",
    "search.click()\n"
   ]
  },
  {
   "cell_type": "code",
   "execution_count": 18,
   "id": "e53e1fb8",
   "metadata": {},
   "outputs": [
    {
     "name": "stdout",
     "output_type": "stream",
     "text": [
      "URL Extracted:  https://www.google.com/maps/place/Pune,+Maharashtra/@18.498673,73.6628347,11.32z/data=!4m6!3m5!1s0x3bc2bf2e67461101:0x828d43bf9d9ee343!8m2!3d18.5204303!4d73.8567437!16zL20vMDE1eTJx?entry=ttu\n",
      "Latitude: 18.498673\n",
      "Longitude: 73.6628347\n"
     ]
    }
   ],
   "source": [
    "#Lets scrape the url and find the lat and long\n",
    "import re\n",
    "\n",
    "\n",
    "try:\n",
    "    url_string=driver.current_url\n",
    "    print(\"URL Extracted: \",url_string)\n",
    "     # Find the latitude and longitude using regular expression\n",
    "    lat_long = re.search(r'@([-0-9.]+),([-0-9.]+)', url_string)\n",
    "    \n",
    "    if lat_long:\n",
    "        latitude = lat_long.group(1)\n",
    "        longitude = lat_long.group(2)\n",
    "        print(\"Latitude:\", latitude)\n",
    "        print(\"Longitude:\", longitude)\n",
    "    else:\n",
    "        print(\"Coordinates not found in the URL.\")\n",
    "        \n",
    "except Exception as e:\n",
    "    print(\"Error:\", e)\n",
    "\n",
    "# Close the WebDriver\n",
    "driver.quit()"
   ]
  },
  {
   "cell_type": "markdown",
   "id": "9d5a045b",
   "metadata": {},
   "source": [
    "# 6. Write a program to scrap all the available details of best gaming laptops from digit.in."
   ]
  },
  {
   "cell_type": "code",
   "execution_count": 2,
   "id": "55696c65",
   "metadata": {},
   "outputs": [],
   "source": [
    "#let's import required libraries\n",
    "import selenium                             #library that is used to work with selenium\n",
    "from selenium import webdriver              #importing webdriver module from selenium to open automated chrome window\n",
    "from selenium.webdriver.support.ui import WebDriverWait\n",
    "from selenium.webdriver.common.by import By #importing inbulit class By\n",
    "import warnings                             #To ignore any sort of warnings  \n",
    "warnings.filterwarnings('ignore')\n",
    "import time                                 #use to stop search engine for few seconds\n",
    "import pandas as pd\n",
    "from bs4 import BeautifulSoup\n",
    "import requests\n",
    "#for handling the exceptions while scrapping\n",
    "from selenium.common.exceptions import NoSuchElementException,ElementNotInteractableException,TimeoutException\n",
    "from selenium.webdriver.support import expected_conditions as EC\n"
   ]
  },
  {
   "cell_type": "code",
   "execution_count": 19,
   "id": "6e5ec0bc",
   "metadata": {},
   "outputs": [],
   "source": [
    "##Opening the digit.in page in automated driver page\n",
    "driver=webdriver.Chrome()\n",
    "driver.get(\"https://www.digit.in/top-products/best-gaming-laptops-40.html\")"
   ]
  },
  {
   "cell_type": "code",
   "execution_count": 21,
   "id": "e3d90237",
   "metadata": {},
   "outputs": [],
   "source": [
    "#Scraping the Laptop and other details\n",
    "Laptop_Brand=[]\n",
    "Processor=[]\n",
    "OS=[]\n",
    "Memory_RAM=[]\n",
    "Price=[]\n",
    "\n",
    "time.sleep(5)\n",
    "\n",
    "Laptop_Name=driver.find_elements(By.XPATH,'//*[@class=\"datahreflink\"]/h3')\n",
    "for i in Laptop_Name:\n",
    "    Laptop_Brand.append(i.text)\n",
    "\n",
    "Laptop_processor=driver.find_elements(By.XPATH,'//*[@class=\"Spcs-details\"]/table/tbody/tr[2]/td[3]')\n",
    "for i in Laptop_processor:\n",
    "    Processor.append(i.text)\n",
    "    \n",
    "os=driver.find_elements(By.XPATH,'//*[@class=\"Spcs-details\"]/table/tbody/tr[4]/td[3]')\n",
    "for i in os:\n",
    "    OS.append(i.text)\n",
    "    \n",
    "memory=driver.find_elements(By.XPATH,'//*[@class=\"Spcs-details\"]/table/tbody/tr[5]/td[3]')\n",
    "for i in memory:\n",
    "    Memory_RAM.append(i.text)\n",
    "    \n",
    "price=driver.find_elements(By.XPATH,'//*[@class=\"Spcs-details\"]/table/tbody/tr[8]/td[3]')\n",
    "for i in price:\n",
    "    Price.append(i.text)\n",
    "\n"
   ]
  },
  {
   "cell_type": "code",
   "execution_count": 22,
   "id": "f8bf74e9",
   "metadata": {},
   "outputs": [
    {
     "name": "stdout",
     "output_type": "stream",
     "text": [
      "7 7 7 7 7\n"
     ]
    }
   ],
   "source": [
    "print(len(Laptop_Brand),len(Processor),len(OS),len(Memory_RAM),len(Price))"
   ]
  },
  {
   "cell_type": "code",
   "execution_count": 23,
   "id": "3aa852bf",
   "metadata": {},
   "outputs": [
    {
     "data": {
      "text/html": [
       "<div>\n",
       "<style scoped>\n",
       "    .dataframe tbody tr th:only-of-type {\n",
       "        vertical-align: middle;\n",
       "    }\n",
       "\n",
       "    .dataframe tbody tr th {\n",
       "        vertical-align: top;\n",
       "    }\n",
       "\n",
       "    .dataframe thead th {\n",
       "        text-align: right;\n",
       "    }\n",
       "</style>\n",
       "<table border=\"1\" class=\"dataframe\">\n",
       "  <thead>\n",
       "    <tr style=\"text-align: right;\">\n",
       "      <th></th>\n",
       "      <th>Laptop Brand</th>\n",
       "      <th>Processor</th>\n",
       "      <th>OS</th>\n",
       "      <th>RAM and Memory</th>\n",
       "      <th>Price</th>\n",
       "    </tr>\n",
       "  </thead>\n",
       "  <tbody>\n",
       "    <tr>\n",
       "      <th>0</th>\n",
       "      <td>HP OMEN 17 (2023)</td>\n",
       "      <td>13th Gen Intel Core i7-13700HX 16 core process...</td>\n",
       "      <td>Windows 11 Home</td>\n",
       "      <td>16 GB DDR5GB RAM &amp; 1 TB SSD</td>\n",
       "      <td>₹ 269,777</td>\n",
       "    </tr>\n",
       "    <tr>\n",
       "      <th>1</th>\n",
       "      <td>MSI Titan GT77 12UHS</td>\n",
       "      <td>12th Gen Intel Core i9-12900HX 16 core process...</td>\n",
       "      <td>Windows 11 Home</td>\n",
       "      <td>64 GB DDR5GB RAM &amp; 2 TB SSD</td>\n",
       "      <td>₹ 499,990</td>\n",
       "    </tr>\n",
       "    <tr>\n",
       "      <th>2</th>\n",
       "      <td>Lenovo Legion 5i Pro</td>\n",
       "      <td>12th Gen Intel Core i7-12700H 14 core processo...</td>\n",
       "      <td>Windows 11 Home</td>\n",
       "      <td>32 GB DDR5GB RAM &amp; 1 TB SSD</td>\n",
       "      <td>₹ 179,990</td>\n",
       "    </tr>\n",
       "    <tr>\n",
       "      <th>3</th>\n",
       "      <td>ASUS ROG Strix Scar 18 2023</td>\n",
       "      <td>13th Gen Intel Core i9-13980HX 24 core process...</td>\n",
       "      <td>Windows 11 Home</td>\n",
       "      <td>32 GB DDR5GB RAM &amp; 1 TB SSD</td>\n",
       "      <td>₹ 279,990</td>\n",
       "    </tr>\n",
       "    <tr>\n",
       "      <th>4</th>\n",
       "      <td>Acer Predator Helios Neo 16</td>\n",
       "      <td>13th Gen Intel Core i7-13700HX processor</td>\n",
       "      <td>Windows 11 Home</td>\n",
       "      <td>16 GB DDR5GB RAM &amp; 1 TB SSD</td>\n",
       "      <td>₹ 149,990</td>\n",
       "    </tr>\n",
       "    <tr>\n",
       "      <th>5</th>\n",
       "      <td>ASUS ROG Zephyrus G14</td>\n",
       "      <td>AMD Ryzen 9-6900HS 8 core processor with 4.9 G...</td>\n",
       "      <td>Windows 11 Home</td>\n",
       "      <td>16 GB DDR5GB RAM &amp; 1 TB SSD</td>\n",
       "      <td>₹ 156,990</td>\n",
       "    </tr>\n",
       "    <tr>\n",
       "      <th>6</th>\n",
       "      <td>MSI Cyborg 15</td>\n",
       "      <td>12th Gen Intel Core i7-12650H 10 core processo...</td>\n",
       "      <td>Windows 11 Home</td>\n",
       "      <td>16 GB DDR5GB RAM &amp; 1 TB SSD</td>\n",
       "      <td>₹ 125,000</td>\n",
       "    </tr>\n",
       "  </tbody>\n",
       "</table>\n",
       "</div>"
      ],
      "text/plain": [
       "                  Laptop Brand  \\\n",
       "0            HP OMEN 17 (2023)   \n",
       "1         MSI Titan GT77 12UHS   \n",
       "2         Lenovo Legion 5i Pro   \n",
       "3  ASUS ROG Strix Scar 18 2023   \n",
       "4  Acer Predator Helios Neo 16   \n",
       "5        ASUS ROG Zephyrus G14   \n",
       "6                MSI Cyborg 15   \n",
       "\n",
       "                                           Processor               OS  \\\n",
       "0  13th Gen Intel Core i7-13700HX 16 core process...  Windows 11 Home   \n",
       "1  12th Gen Intel Core i9-12900HX 16 core process...  Windows 11 Home   \n",
       "2  12th Gen Intel Core i7-12700H 14 core processo...  Windows 11 Home   \n",
       "3  13th Gen Intel Core i9-13980HX 24 core process...  Windows 11 Home   \n",
       "4           13th Gen Intel Core i7-13700HX processor  Windows 11 Home   \n",
       "5  AMD Ryzen 9-6900HS 8 core processor with 4.9 G...  Windows 11 Home   \n",
       "6  12th Gen Intel Core i7-12650H 10 core processo...  Windows 11 Home   \n",
       "\n",
       "                RAM and Memory      Price  \n",
       "0  16 GB DDR5GB RAM & 1 TB SSD  ₹ 269,777  \n",
       "1  64 GB DDR5GB RAM & 2 TB SSD  ₹ 499,990  \n",
       "2  32 GB DDR5GB RAM & 1 TB SSD  ₹ 179,990  \n",
       "3  32 GB DDR5GB RAM & 1 TB SSD  ₹ 279,990  \n",
       "4  16 GB DDR5GB RAM & 1 TB SSD  ₹ 149,990  \n",
       "5  16 GB DDR5GB RAM & 1 TB SSD  ₹ 156,990  \n",
       "6  16 GB DDR5GB RAM & 1 TB SSD  ₹ 125,000  "
      ]
     },
     "execution_count": 23,
     "metadata": {},
     "output_type": "execute_result"
    }
   ],
   "source": [
    "df5=pd.DataFrame({\"Laptop Brand\":Laptop_Brand,\"Processor\":Processor,\"OS\":OS,\"RAM and Memory\":Memory_RAM,\"Price\":Price})\n",
    "df5"
   ]
  },
  {
   "cell_type": "markdown",
   "id": "d689a805",
   "metadata": {},
   "source": [
    "# 7. Write a python program to scrape the details for all billionaires from www.forbes.com. Details to be scrapped: “Rank”, “Name”, “Net worth”, “Age”, “Citizenship”, “Source”, “Industry”."
   ]
  },
  {
   "cell_type": "code",
   "execution_count": 28,
   "id": "dac05be4",
   "metadata": {},
   "outputs": [],
   "source": [
    "#let's import required libraries\n",
    "import selenium                             #library that is used to work with selenium\n",
    "from selenium import webdriver              #importing webdriver module from selenium to open automated chrome window\n",
    "from selenium.webdriver.support.ui import WebDriverWait\n",
    "from selenium.webdriver.common.by import By #importing inbulit class By\n",
    "from selenium.webdriver.common.action_chains import ActionChains\n",
    "import warnings                             #To ignore any sort of warnings  \n",
    "warnings.filterwarnings('ignore')\n",
    "import time                                 #use to stop search engine for few seconds\n",
    "import pandas as pd\n",
    "from bs4 import BeautifulSoup\n",
    "import requests\n",
    "#for handling the exceptions while scrapping\n",
    "from selenium.common.exceptions import NoSuchElementException,ElementNotInteractableException,TimeoutException\n",
    "from selenium.webdriver.support import expected_conditions as EC"
   ]
  },
  {
   "cell_type": "code",
   "execution_count": 31,
   "id": "a48d2db9",
   "metadata": {},
   "outputs": [],
   "source": [
    "##Opening the forbes page in automated driver page\n",
    "driver=webdriver.Chrome()\n",
    "driver.get(\"http://www.forbes.com/\")"
   ]
  },
  {
   "cell_type": "code",
   "execution_count": 35,
   "id": "6dcf3f44",
   "metadata": {},
   "outputs": [],
   "source": [
    "#Opening the forbes billioners list from start page \n",
    "\n",
    "click_head=driver.find_element(By.XPATH,'//*[@class=\"_8FT-x3t4\"]/div')\n",
    "click_head.click()\n",
    "\n",
    "#for finding the element by hover on \n",
    "billioner_hover=driver.find_element(By.XPATH,'//*[@class=\"xMDGnUGv lXvj00YF pgYJ2orL\"]/ul/li[2]/div[1]/a')\n",
    "\n",
    "# Create an ActionChains instance\n",
    "actions=ActionChains(driver)\n",
    "# Move the cursor to the hover element\n",
    "actions.move_to_element(billioner_hover).perform()\n",
    "\n",
    "#after hover on billioners then clicking on world billioners\n",
    "\n",
    "world_billioners=driver.find_element(By.XPATH,'//*[@class=\"xMDGnUGv lXvj00YF pgYJ2orL\"]/ul/li[2]/div[2]/div[3]/ul/li[1]/a')\n",
    "world_billioners.click()"
   ]
  },
  {
   "cell_type": "code",
   "execution_count": 43,
   "id": "86404e8a",
   "metadata": {},
   "outputs": [],
   "source": [
    "#Scraping the Details of billioners\n",
    "\n",
    "Rank=[]\n",
    "Name=[]\n",
    "Net_worth=[]\n",
    "Age=[]\n",
    "Country=[]\n",
    "Income_Source=[]\n",
    "Industry=[]\n",
    "\n",
    "\n",
    "rank=driver.find_elements(By.XPATH,'//div[@class=\"Table_rank___YBhk Table_dataCell__2QCve\"]')\n",
    "for i in rank:\n",
    "    Rank.append(i.text)\n",
    "    \n",
    "\n",
    "name=driver.find_elements(By.XPATH,'//*[@class=\"TableRow_row__L-0Km\"]/div[2]/div') \n",
    "for i in name:\n",
    "    Name.append(i.text)\n",
    "    \n",
    "worth=driver.find_elements(By.XPATH,'//*[@class=\"TableRow_row__L-0Km\"]/div[3]/div')\n",
    "for i in worth:\n",
    "    Net_worth.append(i.text)\n",
    "    \n",
    "    \n",
    "age=driver.find_elements(By.XPATH,'//*[@class=\"TableRow_row__L-0Km\"]/div[4]/div')\n",
    "for i in age:\n",
    "    Age.append(i.text)\n",
    "\n",
    "country=driver.find_elements(By.XPATH,'//*[@class=\"TableRow_row__L-0Km\"]/div[5]')\n",
    "for i in country:\n",
    "    Country.append(i.text)\n",
    "    \n",
    "source=driver.find_elements(By.XPATH,'//*[@class=\"TableRow_row__L-0Km\"]/div[6]/div/span')\n",
    "for i in source:\n",
    "    Income_Source.append(i.text)\n",
    "    \n",
    "industry=driver.find_elements(By.XPATH,'//*[@class=\"TableRow_row__L-0Km\"]/div[7]/div')\n",
    "for i in industry:\n",
    "    Industry.append(i.text)\n",
    "\n"
   ]
  },
  {
   "cell_type": "code",
   "execution_count": 44,
   "id": "5f96082a",
   "metadata": {},
   "outputs": [
    {
     "name": "stdout",
     "output_type": "stream",
     "text": [
      "200 200 200 200 200 200 200\n"
     ]
    }
   ],
   "source": [
    "print(len(Rank),len(Name),len(Net_worth),len(Age),len(Country),len(Income_Source),len(Industry))"
   ]
  },
  {
   "cell_type": "code",
   "execution_count": 45,
   "id": "8635ae85",
   "metadata": {},
   "outputs": [
    {
     "data": {
      "text/html": [
       "<div>\n",
       "<style scoped>\n",
       "    .dataframe tbody tr th:only-of-type {\n",
       "        vertical-align: middle;\n",
       "    }\n",
       "\n",
       "    .dataframe tbody tr th {\n",
       "        vertical-align: top;\n",
       "    }\n",
       "\n",
       "    .dataframe thead th {\n",
       "        text-align: right;\n",
       "    }\n",
       "</style>\n",
       "<table border=\"1\" class=\"dataframe\">\n",
       "  <thead>\n",
       "    <tr style=\"text-align: right;\">\n",
       "      <th></th>\n",
       "      <th>Rank</th>\n",
       "      <th>Name</th>\n",
       "      <th>Net worth</th>\n",
       "      <th>Age</th>\n",
       "      <th>Country</th>\n",
       "      <th>Income Source</th>\n",
       "      <th>Industry</th>\n",
       "    </tr>\n",
       "  </thead>\n",
       "  <tbody>\n",
       "    <tr>\n",
       "      <th>0</th>\n",
       "      <td>1</td>\n",
       "      <td>Bernard Arnault &amp; family</td>\n",
       "      <td>$211 B</td>\n",
       "      <td>74</td>\n",
       "      <td>France</td>\n",
       "      <td>LVMH</td>\n",
       "      <td>Fashion &amp; Retail</td>\n",
       "    </tr>\n",
       "    <tr>\n",
       "      <th>1</th>\n",
       "      <td>2</td>\n",
       "      <td>Elon Musk</td>\n",
       "      <td>$180 B</td>\n",
       "      <td>51</td>\n",
       "      <td>United States</td>\n",
       "      <td>Tesla, SpaceX</td>\n",
       "      <td>Automotive</td>\n",
       "    </tr>\n",
       "    <tr>\n",
       "      <th>2</th>\n",
       "      <td>3</td>\n",
       "      <td>Jeff Bezos</td>\n",
       "      <td>$114 B</td>\n",
       "      <td>59</td>\n",
       "      <td>United States</td>\n",
       "      <td>Amazon</td>\n",
       "      <td>Technology</td>\n",
       "    </tr>\n",
       "    <tr>\n",
       "      <th>3</th>\n",
       "      <td>4</td>\n",
       "      <td>Larry Ellison</td>\n",
       "      <td>$107 B</td>\n",
       "      <td>78</td>\n",
       "      <td>United States</td>\n",
       "      <td>Oracle</td>\n",
       "      <td>Technology</td>\n",
       "    </tr>\n",
       "    <tr>\n",
       "      <th>4</th>\n",
       "      <td>5</td>\n",
       "      <td>Warren Buffett</td>\n",
       "      <td>$106 B</td>\n",
       "      <td>92</td>\n",
       "      <td>United States</td>\n",
       "      <td>Berkshire Hathaway</td>\n",
       "      <td>Finance &amp; Investments</td>\n",
       "    </tr>\n",
       "    <tr>\n",
       "      <th>...</th>\n",
       "      <td>...</td>\n",
       "      <td>...</td>\n",
       "      <td>...</td>\n",
       "      <td>...</td>\n",
       "      <td>...</td>\n",
       "      <td>...</td>\n",
       "      <td>...</td>\n",
       "    </tr>\n",
       "    <tr>\n",
       "      <th>195</th>\n",
       "      <td>195</td>\n",
       "      <td>Jin Baofang</td>\n",
       "      <td>$9.6 B</td>\n",
       "      <td>70</td>\n",
       "      <td>China</td>\n",
       "      <td>Solar panels</td>\n",
       "      <td>Energy</td>\n",
       "    </tr>\n",
       "    <tr>\n",
       "      <th>196</th>\n",
       "      <td>195</td>\n",
       "      <td>Luo Liguo &amp; family</td>\n",
       "      <td>$9.6 B</td>\n",
       "      <td>67</td>\n",
       "      <td>China</td>\n",
       "      <td>Chemicals</td>\n",
       "      <td>Manufacturing</td>\n",
       "    </tr>\n",
       "    <tr>\n",
       "      <th>197</th>\n",
       "      <td>195</td>\n",
       "      <td>Marijke Mars</td>\n",
       "      <td>$9.6 B</td>\n",
       "      <td>58</td>\n",
       "      <td>United States</td>\n",
       "      <td>Candy, pet food</td>\n",
       "      <td>Food &amp; Beverage</td>\n",
       "    </tr>\n",
       "    <tr>\n",
       "      <th>198</th>\n",
       "      <td>195</td>\n",
       "      <td>Pamela Mars</td>\n",
       "      <td>$9.6 B</td>\n",
       "      <td>62</td>\n",
       "      <td>United States</td>\n",
       "      <td>Candy, pet food</td>\n",
       "      <td>Food &amp; Beverage</td>\n",
       "    </tr>\n",
       "    <tr>\n",
       "      <th>199</th>\n",
       "      <td>195</td>\n",
       "      <td>Valerie Mars</td>\n",
       "      <td>$9.6 B</td>\n",
       "      <td>64</td>\n",
       "      <td>United States</td>\n",
       "      <td>Candy, pet food</td>\n",
       "      <td>Food &amp; Beverage</td>\n",
       "    </tr>\n",
       "  </tbody>\n",
       "</table>\n",
       "<p>200 rows × 7 columns</p>\n",
       "</div>"
      ],
      "text/plain": [
       "    Rank                      Name Net worth Age        Country  \\\n",
       "0      1  Bernard Arnault & family    $211 B  74         France   \n",
       "1      2                 Elon Musk    $180 B  51  United States   \n",
       "2      3                Jeff Bezos    $114 B  59  United States   \n",
       "3      4             Larry Ellison    $107 B  78  United States   \n",
       "4      5            Warren Buffett    $106 B  92  United States   \n",
       "..   ...                       ...       ...  ..            ...   \n",
       "195  195               Jin Baofang    $9.6 B  70          China   \n",
       "196  195        Luo Liguo & family    $9.6 B  67          China   \n",
       "197  195              Marijke Mars    $9.6 B  58  United States   \n",
       "198  195               Pamela Mars    $9.6 B  62  United States   \n",
       "199  195              Valerie Mars    $9.6 B  64  United States   \n",
       "\n",
       "          Income Source               Industry  \n",
       "0                  LVMH       Fashion & Retail  \n",
       "1         Tesla, SpaceX             Automotive  \n",
       "2                Amazon             Technology  \n",
       "3                Oracle             Technology  \n",
       "4    Berkshire Hathaway  Finance & Investments  \n",
       "..                  ...                    ...  \n",
       "195        Solar panels                 Energy  \n",
       "196           Chemicals          Manufacturing  \n",
       "197     Candy, pet food        Food & Beverage  \n",
       "198     Candy, pet food        Food & Beverage  \n",
       "199     Candy, pet food        Food & Beverage  \n",
       "\n",
       "[200 rows x 7 columns]"
      ]
     },
     "execution_count": 45,
     "metadata": {},
     "output_type": "execute_result"
    }
   ],
   "source": [
    "df7=pd.DataFrame({\"Rank\":Rank,\"Name\":Name,\"Net worth\":Net_worth,\"Age\":Age,\"Country\":Country,\"Income Source\":Income_Source,\"Industry\":Industry})\n",
    "df7"
   ]
  },
  {
   "cell_type": "markdown",
   "id": "41ef0e23",
   "metadata": {},
   "source": [
    "# 8. Write a program to extract at least 500 Comments, Comment upvote and time when comment was posted from any YouTube Video."
   ]
  },
  {
   "cell_type": "code",
   "execution_count": 46,
   "id": "f1d24574",
   "metadata": {},
   "outputs": [],
   "source": [
    "#let's import required libraries\n",
    "import selenium                             #library that is used to work with selenium\n",
    "from selenium import webdriver              #importing webdriver module from selenium to open automated chrome window\n",
    "from selenium.webdriver.support.ui import WebDriverWait\n",
    "from selenium.webdriver.common.by import By #importing inbulit class By\n",
    "from selenium.webdriver.common.action_chains import ActionChains\n",
    "import warnings                             #To ignore any sort of warnings  \n",
    "warnings.filterwarnings('ignore')\n",
    "import time                                 #use to stop search engine for few seconds\n",
    "import pandas as pd\n",
    "from bs4 import BeautifulSoup\n",
    "import requests\n",
    "#for handling the exceptions while scrapping\n",
    "from selenium.common.exceptions import NoSuchElementException,ElementNotInteractableException,TimeoutException\n",
    "from selenium.webdriver.support import expected_conditions as EC"
   ]
  },
  {
   "cell_type": "code",
   "execution_count": 55,
   "id": "d6bb9ae8",
   "metadata": {},
   "outputs": [],
   "source": [
    "##Opening the Youtube page in automated driver page\n",
    "driver=webdriver.Chrome()\n",
    "driver.get(\"http://www.youtube.com/\")"
   ]
  },
  {
   "cell_type": "code",
   "execution_count": 61,
   "id": "f9eaa902",
   "metadata": {},
   "outputs": [],
   "source": [
    "#searching the video in the video\n",
    "\n",
    "video=driver.find_element(By.XPATH,'//div[@class=\"ytd-searchbox-spt\"]/input')\n",
    "video.send_keys(\"Perfect Ed Sheeran\")\n",
    "\n",
    "search_button=driver.find_element(By.XPATH,'/html/body/ytd-app/div[1]/div/ytd-masthead/div[4]/div[2]/ytd-searchbox/button')\n",
    "search_button.click()"
   ]
  },
  {
   "cell_type": "code",
   "execution_count": 62,
   "id": "a6a8a687",
   "metadata": {},
   "outputs": [],
   "source": [
    "#clicking on the video\n",
    "\n",
    "vid=driver.find_element(By.XPATH,'//a[@class=\"yt-simple-endpoint style-scope ytd-video-renderer\"]')\n",
    "vid.click()"
   ]
  },
  {
   "cell_type": "code",
   "execution_count": null,
   "id": "76e78936",
   "metadata": {},
   "outputs": [],
   "source": [
    "#scrapping the comments\n",
    "Comment=[]\n",
    "Upvote=[]\n",
    "Time=[]\n",
    "\n",
    "for _ in range(500):\n",
    "    driver.execute_script(\"window.scroll(0,500)\")\n",
    "\n",
    "\n",
    "comments=driver.find_elements(By.XPATH,'//*[@class=\"yt-simple-endpoint style-scope ytd-video-renderer\"]')\n",
    "for comment in comments:\n",
    "    Comment.append(comment.text)\n",
    "\n",
    "    \n",
    "vote=driver.find_elements(By.XPATH,'')\n",
    "for i in vote:\n",
    "    Upvote.append(i.text)\n",
    "\n",
    "time=driver.find_elements(By.XPATH,'')\n",
    "for i in time:\n",
    "    Time.append(i.text)\n",
    "        \n",
    "        "
   ]
  }
 ],
 "metadata": {
  "kernelspec": {
   "display_name": "Python 3 (ipykernel)",
   "language": "python",
   "name": "python3"
  },
  "language_info": {
   "codemirror_mode": {
    "name": "ipython",
    "version": 3
   },
   "file_extension": ".py",
   "mimetype": "text/x-python",
   "name": "python",
   "nbconvert_exporter": "python",
   "pygments_lexer": "ipython3",
   "version": "3.11.4"
  }
 },
 "nbformat": 4,
 "nbformat_minor": 5
}
